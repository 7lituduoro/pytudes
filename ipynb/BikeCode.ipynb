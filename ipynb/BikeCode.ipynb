{
 "cells": [
  {
   "cell_type": "markdown",
   "metadata": {},
   "source": [
    "<div align=\"right\" style=\"text-align: right\"><i>Peter Norvig, Oct 2017<br>pandas Aug 2020<br>Data updated monthly</i></div>\n",
    "\n",
    "# Bike Code\n",
    "\n",
    "Code to support the analysis in the notebook [Bike Speed versus Grade.ipynb](Bike%20Speed%20versus%20Grade.ipynb)."
   ]
  },
  {
   "cell_type": "code",
   "execution_count": 1,
   "metadata": {},
   "outputs": [],
   "source": [
    "from IPython.core.display import HTML\n",
    "from typing import Iterator, Iterable, Tuple, List, Dict\n",
    "from collections import namedtuple\n",
    "import matplotlib\n",
    "import matplotlib.pyplot as plt\n",
    "import numpy  as np\n",
    "import pandas as pd\n",
    "import re"
   ]
  },
  {
   "cell_type": "markdown",
   "metadata": {},
   "source": [
    "# Reading Data: `rides`\n",
    "\n",
    "I saved a bunch of my recorded [Strava](https://www.strava.com/athletes/575579) rides, most of them longer than 25 miles, as [`bikerides.tsv`](bikerides.tsv).  The columns are: the date; the year; a title; the elapsed time of the ride; the length of the ride in miles; and the total climbing in feet, e.g.: \n",
    "\n",
    "    Mon, 10/5\t2020\tHalf way around the bay on bay trail\t6:26:35\t80.05\t541\n",
    "    \n",
    "I parse the file into the pandas dataframe `rides`, adding derived columns for miles per hour, vertical meters climbed per hour (VAM), grade in feet per mile, grade in percent, and kilometers ridden:"
   ]
  },
  {
   "cell_type": "code",
   "execution_count": 2,
   "metadata": {},
   "outputs": [],
   "source": [
    "def parse_rides(lines):\n",
    "    \"\"\"Parse a bikerides.tsv file.\"\"\"\n",
    "    return add_columns(pd.read_table(lines, comment='#',\n",
    "                       converters=dict(hours=parse_hours, feet=parse_int)))\n",
    "\n",
    "def parse_hours(time: str) -> float: \n",
    "    \"\"\"Parse '4:30:00' => 4.5 hours.\"\"\"\n",
    "    hrs = sum(int(x) * 60 ** (i - 2) \n",
    "              for i, x in enumerate(reversed(time.split(':'))))\n",
    "    return round(hrs, 2)\n",
    "\n",
    "def parse_int(field: str) -> int: return int(field.replace(',', ''))\n",
    "\n",
    "def add_columns(rides) -> pd.DataFrame:\n",
    "    \"\"\"Compute new columns from existing ones.\"\"\"\n",
    "    mi, hr, ft = rides['miles'], rides['hours'], rides['feet']\n",
    "    return rides.assign(\n",
    "        mph=round(mi / hr, 2),\n",
    "        vam=round(ft / hr / 3.28084),\n",
    "        fpm=round(ft / mi),\n",
    "        pct=round(ft / mi * 100 / 5280, 2),\n",
    "        kms=round(mi * 1.609, 2))"
   ]
  },
  {
   "cell_type": "code",
   "execution_count": 3,
   "metadata": {},
   "outputs": [],
   "source": [
    "rides  = parse_rides(open('bikerides.tsv'))\n",
    "yearly = parse_rides(open('bikeyears.tsv')).drop(columns=['date', 'title'])\n",
    "yearly['miles'] = list(map(round, yearly['miles']))\n",
    "yearly.index = [''] * len(yearly)"
   ]
  },
  {
   "cell_type": "markdown",
   "metadata": {},
   "source": [
    "# Reading Data: `segments`\n",
    "\n",
    "I picked some representative climbing segments ([`bikesegments.csv`](bikesegments.csv)) with the segment length in miles and climb in feet, along with several of my times on the segment. A line like\n",
    "\n",
    "    Old La Honda, 2.98, 1255, 28:49, 34:03, 36:44\n",
    "    \n",
    "means that this segment of Old La Honda Rd is 2.98 miles long, 1255 feet of climbing, and I've selected three times for my rides on that segment: the fastest, middle, and slowest of the times  that Strava shows. (However, I ended up dropping the slowest time in the charts to make them less busy.)"
   ]
  },
  {
   "cell_type": "code",
   "execution_count": 4,
   "metadata": {},
   "outputs": [],
   "source": [
    "def parse_segments(lines) -> pd.DataFrame:\n",
    "    \"\"\"Parse segments into rides. Each ride is a tuple of:\n",
    "    (segment_title, time,  miles, feet_climb).\"\"\"\n",
    "    records = []\n",
    "    for segment in lines:\n",
    "        title, mi, ft, *times = segment.split(',')[:5]\n",
    "        for time in times:\n",
    "            records.append((title, parse_hours(time), float(mi), parse_int(ft)))\n",
    "    return add_columns(pd.DataFrame(records, columns=('title', 'hours', 'miles', 'feet')))"
   ]
  },
  {
   "cell_type": "code",
   "execution_count": 5,
   "metadata": {},
   "outputs": [],
   "source": [
    "segments = parse_segments(open('bikesegments.csv'))"
   ]
  },
  {
   "cell_type": "markdown",
   "metadata": {},
   "source": [
    "# Reading Data: `places`\n",
    "\n",
    "Monthly, I will take my [summary data from wandrer.earth](https://wandrer.earth/athletes/3534/santa-clara-county-california) and enter it in the file [bikeplaceupdates.txt](bikeplaceupdates.txt), in a format where\n",
    "\n",
    "      por |  48.2 | Portola Valley | \n",
    "      --------------------------------------------------------------------------------\n",
    "      2022-03 por 99.5 sky 99.24\n",
    "      \n",
    "means that \"por\" is the abbreviation for Portola Valley, which has 48.2 miles of roads, and in March 2022, I had ridden 99.5% of the roads in Portola Valley, as well as 99.24% of the roads in Sky Londa, etc. (I wanted both the place declarations and the monthly udates to be in one file, in case I decide to global replace some abbreviation.)"
   ]
  },
  {
   "cell_type": "code",
   "execution_count": 6,
   "metadata": {},
   "outputs": [],
   "source": [
    "Place = namedtuple('Place', 'name, miles, special, months, pcts')\n",
    "\n",
    "def parse_places(filename='bikeplaces.txt', sep='-'*80) -> Dict:\n",
    "    \"\"\"Parse file into a dict:\n",
    "    places = {'por':  Place('Portola Valley', 48.2, '', [month, ...], [pct, ...])}\"\"\"\n",
    "    places = {}\n",
    "    declarations, updates = open(filename).read().split(sep)\n",
    "    for abbrev, miles, name, special in tokenize(declarations, sep='|'):\n",
    "        places[abbrev] = Place(name, float(miles), special, [], [])\n",
    "    for month, tokens in enumerate(tokenize(updates)):\n",
    "        for i in range(1, len(tokens), 2): \n",
    "            abbrev, pct = tokens[i], float(tokens[i+1])\n",
    "            places[abbrev].months.append(month)\n",
    "            places[abbrev].pcts.append(pct)\n",
    "    return places\n",
    "\n",
    "def tokenize(text, sep=None): \n",
    "    \"\"\"Split text into lines split by sep; strip each token; ignore blanks and comments.\"\"\"\n",
    "    lines = text.splitlines()\n",
    "    return [[token.strip() for token in line.split(sep)]\n",
    "            for line in lines if line.strip() and not line.startswith('#')]\n",
    "\n",
    "places = parse_places()"
   ]
  },
  {
   "cell_type": "markdown",
   "metadata": {},
   "source": [
    "# Plotting and Curve-Fitting"
   ]
  },
  {
   "cell_type": "code",
   "execution_count": 7,
   "metadata": {},
   "outputs": [],
   "source": [
    "plt.rcParams[\"figure.figsize\"] = (10, 6)\n",
    "\n",
    "def show(X, Y, data, title='', degrees=(2, 3)): \n",
    "    \"\"\"Plot X versus Y and a best fit curve to it, with some bells and whistles.\"\"\"\n",
    "    grid(); plt.ylabel(Y); plt.xlabel(X); plt.title(title)\n",
    "    plt.scatter(X, Y, data=data, c='grey', marker='+')\n",
    "    X1 = np.linspace(min(data[X]), max(data[X]), 100)\n",
    "    for degree in degrees:\n",
    "        F = poly_fit(data[X], data[Y], degree)\n",
    "        plt.plot(X1, [F(x) for x in X1], '-')\n",
    "    \n",
    "def grid(axis='both'): \n",
    "    \"Turn on the grid.\"\n",
    "    plt.minorticks_on() \n",
    "    plt.grid(which='major', ls='-', alpha=3/4, axis=axis)\n",
    "    plt.grid(which='minor', ls=':', alpha=1/2, axis=axis)\n",
    "    \n",
    "def poly_fit(X, Y, degree: int) -> callable:\n",
    "    \"\"\"The polynomial function that best fits the X,Y vectors.\"\"\"\n",
    "    coeffs = np.polyfit(X, Y, degree)[::-1]\n",
    "    return lambda x: sum(c * x ** i for i, c in enumerate(coeffs)) \n",
    "\n",
    "estimator = poly_fit(rides['feet'] / rides['miles'], \n",
    "                   rides['miles'] / rides['hours'], 2)\n",
    "\n",
    "def estimate(miles, feet, estimator=estimator) -> float:\n",
    "    \"\"\"Given a ride distance in miles and total climb in feet, estimate time in minutes.\"\"\"\n",
    "    return round(60 * miles / estimator(feet / miles))\n",
    "\n",
    "def top(frame, field, n=20): return frame.sort_values(field, ascending=False).head(n)"
   ]
  },
  {
   "cell_type": "markdown",
   "metadata": {},
   "source": [
    "# Plotting Wandrer Places"
   ]
  },
  {
   "cell_type": "code",
   "execution_count": 8,
   "metadata": {},
   "outputs": [],
   "source": [
    "special_groups = dict(sf='San Francisco Neighborhoods', sj='San Jose Neighborhoods', \n",
    "                      far='Far Away Places', county='Bay Area Counties', big='California, USA and Earth')\n",
    "\n",
    "def wandering(places, pcts=(100, 99, 90, 50, 33.3, 25, 0), specials=special_groups):\n",
    "    \"Plot charts within the various percent ranges, and special groups.\"\n",
    "    for i in range(len(pcts) - 1):\n",
    "        hi, lo = pcts[i], pcts[i + 1]\n",
    "        abbrevs = [a for a in places \n",
    "                   if not places[a].special \n",
    "                   and lo <= max_pct(a) < hi]\n",
    "        wandrer_plot(f'Places with {lo}% to {hi}% roads traveled', places, abbrevs)\n",
    "    for s in specials:\n",
    "        abbrevs = [a for a in places if places[a].special == s]\n",
    "        wandrer_plot(specials[s], places, abbrevs)\n",
    "        \n",
    "def max_pct(abbrev) -> float: \n",
    "    \"\"\"The maximum percent of roads achieved for this place abbreviation.\"\"\"\n",
    "    if not places[abbrev].pcts: print('Warning: No pcts for', abbrev)\n",
    "    return max(places[abbrev].pcts, default=0)\n",
    "        \n",
    "def wandrer_plot(title, places, abbrevs):\n",
    "    \"\"\"Plot Wandrer.earth data for the places with given abbrevs.\"\"\"\n",
    "    if not abbrevs:\n",
    "        return # Don't make an empty plot\n",
    "    abbrevs = sorted(abbrevs, key=max_pct, reverse=True)\n",
    "    fig, ax = plt.figure(), plt.subplot(111); \n",
    "    plt.plot()\n",
    "    for abbrev, marker in zip(abbrevs, markers):\n",
    "        name, miles, special, months, pcts = places[abbrev]\n",
    "        dates = [month_name(i) for i in range(max(months))]\n",
    "        name, miles, *_ = places[abbrev]\n",
    "        ax.plot(months, pcts, ':', marker=marker, label=label(pcts, name, miles))\n",
    "    ax.legend(loc='center left', bbox_to_anchor=(1, 0.5), shadow=True,\n",
    "              prop=matplotlib.font_manager.FontProperties(family='monospace'))\n",
    "    months = places['usa'].months\n",
    "    plt.xticks(months, labels=[month_name(i) for i in months], rotation=90)\n",
    "    plt.ylabel('Percent of Roads Ridden')\n",
    "    plt.title(title); plt.tight_layout(); grid(axis='y'); plt.show()\n",
    "    \n",
    "markers = '^v><osdhxDHPX*' * 3 # Matplotlib markers\n",
    "bonuses = (0.02, 0.1, 2, 25, 50, 90, 99)   # Percents that earn important bonuses\n",
    "\n",
    "def label(pcts, name, miles) -> str:\n",
    "    \"\"\"Make a label for the legend.\"\"\"\n",
    "    pct = f'{rounded(pcts[-1]):>3}' if pcts[-1] > 1.4 else f'{pcts[-1]}'\n",
    "    done = miles * pcts[-1]\n",
    "    bonus = next((f' {rounded((p - pcts[-1]) / 100 * miles):>3} to {p}%' \n",
    "                  for p in bonuses if p >= pcts[-1]), '')\n",
    "    return f'{pct}% ({rounded(done / 100):>3}/{rounded(miles):<3} mi){bonus} {name}'\n",
    "\n",
    "def month_name(i, start=2020 * 12 + 6) -> str:\n",
    "    \"\"\"Maps 0 -> '2020-7' and 13 to '2021-8', etc.\"\"\"\n",
    "    year  = (start + i) // 12\n",
    "    month = (start + i) %  12 + 1\n",
    "    return f'{year}-{month:02}'\n",
    "\n",
    "def rounded(x: float) -> str: \n",
    "    \"\"\"Round x to 3 spaces wide (if possible).\"\"\"\n",
    "    return f'{round(x):,d}' if x > 10 else f'{x:.1f}'"
   ]
  },
  {
   "cell_type": "markdown",
   "metadata": {},
   "source": [
    "# Pareto Front  Across Two Counties"
   ]
  },
  {
   "cell_type": "code",
   "execution_count": 9,
   "metadata": {},
   "outputs": [],
   "source": [
    "def make_leaders(data):\n",
    "    \"\"\"Make a dataframe of leaders in two counties.\"\"\"\n",
    "    leaders = pd.DataFrame(data, columns=['Name', 'SMC %', 'SCC %', 'Front?'])\n",
    "    leaders['SMC miles'] = [round(29.51 * d[1]) for d in data]\n",
    "    leaders['SCC miles'] = [round(75.64 * d[2]) for d in data]\n",
    "    leaders['Total miles'] = leaders['SMC miles'] + leaders['SCC miles']\n",
    "    return leaders\n",
    "\n",
    "leaders = make_leaders([\n",
    "    ('Barry Mann', 73.37, 29.35, 1),   ('Jason Molenda', 7.13, 54.65, 1),  \n",
    "    ('Peter Norvig', 50.06, 30.31, 1), ('Brian Feinberg', 29.72, 35.59, 1),\n",
    "    ('Jim Brooks', 4.23, 43.39, 0),    ('Megan Gardner', 89.43, 8.69, 1),\n",
    "    ('Matthew Ring', 72.67, 1.48, 0),  ('Elliot  Huff', 50.43, 8.14, 0)])\n",
    "                   \n",
    "def pareto_front(leaders):\n",
    "    ax = leaders.plot('SMC %', 'SCC %', grid=True, kind='scatter')\n",
    "    front = sorted((x, y) for i, (_, x, y, f, *_) in leaders.iterrows() if f)\n",
    "    ax.plot(*zip(*front), ':'); ax.axis('square'); grid()\n",
    "    for i, (name, x, y, *_) in leaders.iterrows():\n",
    "        initials = ''.join(w[0] for w in name.split())\n",
    "        ax.text(x - 2, y + 2, initials)\n",
    "    return leaders.drop(columns=['Front?'])"
   ]
  },
  {
   "cell_type": "markdown",
   "metadata": {},
   "source": [
    "# Eddington Number"
   ]
  },
  {
   "cell_type": "code",
   "execution_count": 10,
   "metadata": {},
   "outputs": [],
   "source": [
    "def Ed_number(rides, units) -> int:\n",
    "    \"\"\"Eddington number: The maximum integer e such that you have bicycled \n",
    "    a distance of at least e on at least e days.\"\"\"\n",
    "    distances = sorted(rides[units], reverse=True)\n",
    "    return max(e for e, d in enumerate(distances, 1) if d >= e)\n",
    "\n",
    "def Ed_gap(distances, target) -> int:\n",
    "    \"\"\"The number of rides needed to reach an Eddington number target.\"\"\"\n",
    "    return target - sum(distances >= target)\n",
    "\n",
    "def Ed_gaps(rides, N=10) -> dict:\n",
    "    \"\"\"A table of gaps to Eddington numbers by year, and a plot..\"\"\"\n",
    "    E_km = Ed_number(rides, 'kms')\n",
    "    E_mi = Ed_number(rides, 'miles')\n",
    "    data = [(E_km + d, Ed_gap(rides.kms,   E_km + d), \n",
    "             E_mi + d, Ed_gap(rides.miles, E_mi + d))\n",
    "            for d in range(N)]\n",
    "    df = pd.DataFrame(data, columns=['kms', 'kms gap', 'miles', 'miles gap'])\n",
    "    return df\n",
    "\n",
    "def Ed_progress(rides, years=reversed(range(2013, 2022 + 1))) -> pd.DataFrame:\n",
    "    \"\"\"A table of Eddington numbers by year, and a plot.\"\"\"\n",
    "    def Ed(year, unit): return Ed_number(rides[rides['year'] <= year], unit)\n",
    "    data  = [(y, Ed(y, 'kms'), Ed(y, 'miles')) for y in years]\n",
    "    df = pd.DataFrame(data, columns=['year', 'Ed_km', 'Ed_mi'])\n",
    "    return df"
   ]
  },
  {
   "cell_type": "markdown",
   "metadata": {},
   "source": [
    "# Climbing to Space"
   ]
  },
  {
   "cell_type": "code",
   "execution_count": 11,
   "metadata": {},
   "outputs": [],
   "source": [
    "per_month_climbing = [35.491, 31.765, 39.186, 33.641, 32.782, 14.809, 46.731]\n",
    "\n",
    "space = {'100 kms': 328.204, '10 Everests': 290.320, '50 miles': 50 * 5.280}\n",
    "\n",
    "def climbing(per_month=per_month_climbing, space=space):\n",
    "    \"\"\"Plot progress in climbing\"\"\"\n",
    "    total = np.cumsum(per_month_climbing)#[sum(per_month[:i+1]) for i in range(len(per_month))]\n",
    "    for label in space:\n",
    "        plt.plot(range(12), [space[label]] * 12, ':', label=label)\n",
    "    plt.plot(range(len(total)), total, 'o-', label='my total')\n",
    "    plt.plot(range(len(total)), per_month, 's-.', label='per month')\n",
    "    plt.legend(loc=(1.04, .64), fontsize='large'); grid()\n",
    "    plt.xlabel('Month of 2022'); plt.ylabel('Total climbing (Kft)')\n",
    "    plt.xticks(range(13), 'Jan Feb Mar Apr May Jun Jul Aug Sep Oct Nov Dec'.split())"
   ]
  }
 ],
 "metadata": {
  "kernelspec": {
   "display_name": "Python 3",
   "language": "python",
   "name": "python3"
  },
  "language_info": {
   "codemirror_mode": {
    "name": "ipython",
    "version": 3
   },
   "file_extension": ".py",
   "mimetype": "text/x-python",
   "name": "python",
   "nbconvert_exporter": "python",
   "pygments_lexer": "ipython3",
   "version": "3.7.7"
  }
 },
 "nbformat": 4,
 "nbformat_minor": 4
}
