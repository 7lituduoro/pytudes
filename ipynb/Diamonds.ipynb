{
 "cells": [
  {
   "cell_type": "markdown",
   "id": "747a6cce-af90-465c-8276-0b0be8fb365f",
   "metadata": {},
   "source": [
    "<div style=\"text-align:right\"><i>Peter Norvig<br>May 2023</div>\n",
    "    \n",
    "# Wei-Hwa's Diamond-Buying Game \n",
    "\n",
    "Wei-Hwa Huang writes: \"*You are playing a game where you are trying to buy diamonds with coins.  You can buy a random bag of diamonds for 12 coins, look in the bag, and [immediately] decide whether to sell it back for 11 coins or keep it.  You can also purchase a bag for 1 coin but you **must** sell it back for 1 coin (i.e., you can basically figure out the distribution [by peeking at multiple bags for free]). What is a general strategy for maximizing the number of diamonds you keep (that is, total number of diamonds in bags not sold back)?  Include analysis of end cases (e.g., if you spend your last 12 coins, it is never a good idea to sell the bag back).*\n",
    "\n",
    "## Strategy\n",
    "\n",
    "A good strategy starts by peeking at enough 1-coin bags to have a good estimate of the probability distribution of bags. The result of the peeking is a discrete probability distribution: a dict of `{number_of_diamonds: probability}`. I'm assuming that \"number of diamonds\" is always a non-negative integer. The number of peeks you take will depend on how heavy-tailed you think the distribution might be, and on how much patience you have. \n",
    "\n",
    "## Probability Distributions"
   ]
  },
  {
   "cell_type": "code",
   "execution_count": 1,
   "id": "a40a4728-650d-47c6-bcfa-d29fb9d188fc",
   "metadata": {},
   "outputs": [],
   "source": [
    "from typing import *\n",
    "import functools\n",
    "import random\n",
    "import statistics\n",
    "\n",
    "class ProbDist(Counter):\n",
    "    \"\"\"A discrete probability distribution, {item: probability}; sum of probabilities is 1.0\"\"\"\n",
    "    def __init__(self, iterable):\n",
    "        super().__init__(iterable)\n",
    "        k = sum(self.values())\n",
    "        for x in self:\n",
    "            self[x] /= k\n",
    "            \n",
    "def normal(mu=100, sigma=10, k=1_000) -> ProbDist: \n",
    "    \"\"\"Probability distribution formed from k samples from a normal distribution,  \n",
    "    N(mu, sigma); each sample is rounded to a non-negative integer.\"\"\" \n",
    "    return ProbDist(max(0, round(random.gauss(mu, sigma))) \n",
    "                    for _ in range(k))\n",
    "\n",
    "assert ProbDist([1, 2, 3, 1]) == {1: 0.5, 2: 0.25, 3: 0.25}"
   ]
  },
  {
   "cell_type": "markdown",
   "id": "3173b10c-7dc6-4ca2-aa7d-13e209547d9a",
   "metadata": {},
   "source": [
    "## Maximizing Expected Number of Diamonds\n",
    "\n",
    "Given a discrete probability distribution, and assuming that our goal is to maximize the expected (average) number of diamonds, one suggestion was to establish a **cutoff point**: any bags over the cutoff would be kept; others would be sold back (except that a bag should be kept if selling it back would not result in enough coins to buy another bag). But is that the best strategy? I don't think so, no matter what the cutoff point.\n",
    "\n",
    "Rather than try to impose a strategy such as the cutoff-poiint strategy, it is better to go directly to the optimal strategy: the strategy that, in each situation, chooses to keep or sell back based on which action has the highest expected return, assuming the optimal strategy continues to be played.\n",
    "\n",
    "The function `expectation` returns a function `E` such that `E(c)` returns the expected number of diamonds you can obtain starting with `c` coins, and applying the optimal strategy."
   ]
  },
  {
   "cell_type": "code",
   "execution_count": 2,
   "id": "ffec3268-7693-41b9-a1ed-f119333f2426",
   "metadata": {},
   "outputs": [],
   "source": [
    "def expectation_fn(p:ProbDist, buy=12, sell=11) -> Callable:\n",
    "    \"\"\"Returns a function that will compute the expected number of diamonds, given `coins`.\n",
    "    This is 0 if you can't afford a bag, or is the weighted average, over all possible bag values, of\n",
    "    the probability of the bag times the maximum of the expectations of keeping the bag or selling it back.\"\"\"\n",
    "    @functools.lru_cache(None)\n",
    "    def E(coins:int) -> float:\n",
    "        def keep(bag): return bag + E(coins - buy)\n",
    "        def sellback(bag): return E(coins - buy + sell)\n",
    "        if coins < buy:\n",
    "            return 0\n",
    "        else:\n",
    "            return sum(p[bag] * max(keep(bag), sellback(bag)) for bag in p)\n",
    "    return E"
   ]
  },
  {
   "cell_type": "markdown",
   "id": "ac96e139-6681-4c81-af6a-36ff9100072d",
   "metadata": {},
   "source": [
    "## Examing the Results\n",
    "\n",
    "Here I define `E` and call `E(121)`. With 121 coins, I can buy ten bags, and return one; the expected result is a little more than 10 times 100:"
   ]
  },
  {
   "cell_type": "code",
   "execution_count": 3,
   "id": "409509b3-fe9f-45f9-ad22-fc1e4b763fe0",
   "metadata": {},
   "outputs": [
    {
     "data": {
      "text/plain": [
       "1016.9165738912558"
      ]
     },
     "execution_count": 3,
     "metadata": {},
     "output_type": "execute_result"
    }
   ],
   "source": [
    "E = expectation_fn(normal(100, 10))\n",
    "E(121)"
   ]
  },
  {
   "cell_type": "markdown",
   "id": "982b433c-b60e-48e4-a55d-315670f440e6",
   "metadata": {},
   "source": [
    "Each run will be slightly different (by about 1%) because the random samples are different, so the probability distribution estimate is different:"
   ]
  },
  {
   "cell_type": "code",
   "execution_count": 4,
   "id": "b2e7f7bd-5d72-4539-bcc1-7a34d0332da4",
   "metadata": {},
   "outputs": [
    {
     "data": {
      "text/plain": [
       "1018.7010335947339"
      ]
     },
     "execution_count": 4,
     "metadata": {},
     "output_type": "execute_result"
    }
   ],
   "source": [
    "E = expectation_fn(normal(100, 10))\n",
    "E(121)"
   ]
  },
  {
   "cell_type": "markdown",
   "id": "b07e7e0a-9909-401a-b01b-3c49fae783ba",
   "metadata": {},
   "source": [
    "The expected result for 12 coins is about 100; for 11 coins it is zero."
   ]
  },
  {
   "cell_type": "code",
   "execution_count": 5,
   "id": "a7fec6fd-08c4-4865-8758-12342963608c",
   "metadata": {},
   "outputs": [
    {
     "data": {
      "text/plain": [
       "100.53299999999999"
      ]
     },
     "execution_count": 5,
     "metadata": {},
     "output_type": "execute_result"
    }
   ],
   "source": [
    "E(12)"
   ]
  },
  {
   "cell_type": "code",
   "execution_count": 6,
   "id": "56845df1-5ef4-4d16-b183-fd8e2ecbbcfe",
   "metadata": {},
   "outputs": [
    {
     "data": {
      "text/plain": [
       "0"
      ]
     },
     "execution_count": 6,
     "metadata": {},
     "output_type": "execute_result"
    }
   ],
   "source": [
    "E(11)"
   ]
  },
  {
   "cell_type": "markdown",
   "id": "2ebf54e1-b1c2-4820-9094-c7a69d88846b",
   "metadata": {},
   "source": [
    "## Visualizing the Results\n",
    "\n",
    "The number of diamonds should increase with the number of coins, and also with the standard deviation of the distribution. Below is a plot showing this:"
   ]
  },
  {
   "cell_type": "code",
   "execution_count": 7,
   "id": "3ff6635c-170b-43b8-9591-2717d8007eb8",
   "metadata": {},
   "outputs": [
    {
     "data": {
      "image/png": "[encoded data removed]",
      "text/plain": [
       "<Figure size 432x288 with 1 Axes>"
      ]
     },
     "metadata": {
      "needs_background": "light"
     },
     "output_type": "display_data"
    }
   ],
   "source": [
    "import matplotlib.pyplot as plt\n",
    "\n",
    "def plot(sigmas=(60, 40, 25, 5), coins=range(45, 76)):\n",
    "    \"\"\"Plot the expected number of diamonds for different sigma/starting coins combinations.\"\"\"\n",
    "    for sigma in sigmas:\n",
    "        E = expectation_fn(normal(100, sigma))\n",
    "        vals = [E(c) for c in coins]\n",
    "        plt.plot(coins, vals, 'o:', label=f'sigma={sigma}')\n",
    "        plt.title('Expected number of diamonds for different starting coins and distributions')\n",
    "        plt.legend(); plt.xlabel('starting coins'); plt.ylabel('diamonds')\n",
    "\n",
    "plot()"
   ]
  },
  {
   "cell_type": "markdown",
   "id": "946b1ca2-3099-4991-8703-10bbd1d3daec",
   "metadata": {},
   "source": [
    "In this plot, the lowest line, corresponding to a standard deviation of 5, has big jumps when we reach 48, 60, and 72 coins, which corresponds to being able to buy 4, 5, and 6 bags. Basically, for standard deviation 5, the strategy with, say, 48 coins is \"buy 4 bags, and keep them, no matter what.\" For distributions with larger standard deviations, the jump is less pronounced, because the strategy with 48 coins is \"if we get 4 good bags, then keep them, but if we get a bad bag at the beginning, sell it back and there is a good chance that a careful selection of 3 bags will result in more diamonds than 4 bags that include the bad one.\""
   ]
  },
  {
   "cell_type": "markdown",
   "id": "772006f7-ac24-4c73-958e-2251bec960b0",
   "metadata": {},
   "source": [
    "# Visualizing the Strategy\n",
    "\n",
    "Now we know how many diamonds to expect from the optimal strategy, but what **is** the optimal strategy? Is it equivalent to, or similar to, the cutoff strategy, for some cutoff? I'll show scatter plots where each dot indicates a situation where the optimal strategy, given a number of coins and a bag value, is to sell the bag back; each empty space means to keep the bag."
   ]
  },
  {
   "cell_type": "code",
   "execution_count": 8,
   "id": "f8d70f31-7fd3-47f2-9d7e-642c0e80b605",
   "metadata": {},
   "outputs": [],
   "source": [
    "def decision_fn(p:ProbDist, buy=12, sell=11) -> Callable:\n",
    "    \"\"\"Return a function, fn(coins, bag), that tells whether to keep or sell back the bag.\"\"\"\n",
    "    E = expectation_fn(p, buy, sell)\n",
    "    return lambda coins, bag: (\n",
    "        'keep' if bag + E(coins - buy) >= E(coins - buy + sell) else 'sellback')\n",
    "\n",
    "def scatter(p:ProbDist, coins=range(45, 76)):\n",
    "    \"\"\"Plot (coins, bag value) points for which the optimal action is to sell back.\"\"\"\n",
    "    fn = decision_fn(p)\n",
    "    XY = [(c, x) for c in coins for x in range(min(p), max(p) + 1) \n",
    "          if fn(c, x) == 'sellback']\n",
    "    plt.scatter(*T(XY), marker='.')\n",
    "    plt.xlabel('coins'); plt.ylabel('bag value'); \n",
    "    plt.title('Combinations of coins / bag value that should be sold back')\n",
    "\n",
    "def T(matrix): \"Transpose\"; return zip(*matrix)"
   ]
  },
  {
   "cell_type": "code",
   "execution_count": 9,
   "id": "ea737adf-801a-4eb2-96db-e84abd46c994",
   "metadata": {},
   "outputs": [
    {
     "data": {
      "image/png": "[encoded data removed]",
      "text/plain": [
       "<Figure size 432x288 with 1 Axes>"
      ]
     },
     "metadata": {
      "needs_background": "light"
     },
     "output_type": "display_data"
    }
   ],
   "source": [
    "scatter(normal(100, 5))"
   ]
  },
  {
   "cell_type": "markdown",
   "id": "c45ef1a0-6748-46a0-a135-5617d2bcf687",
   "metadata": {},
   "source": [
    "This shows, for example, that with 48 coins there is no bag value that should be sold back; it is always better to get 4 bags than to sell one back and be left with only 3 bags. But with each extra coin, we can afford to be more picky, and the bag value that we sell back increases, until we get up to 60 coins, where again the best azction is to keep all 5 bags.\n",
    "\n",
    "However, with a larger standard deviation we get a different scatter plot (there are so many dots they run together to form lines, but that's not important):"
   ]
  },
  {
   "cell_type": "code",
   "execution_count": 10,
   "id": "50b2ab97-4323-44e7-a5dd-d6bf730cc45f",
   "metadata": {},
   "outputs": [
    {
     "data": {
      "image/png": "[encoded data removed]",
      "text/plain": [
       "<Figure size 432x288 with 1 Axes>"
      ]
     },
     "metadata": {
      "needs_background": "light"
     },
     "output_type": "display_data"
    }
   ],
   "source": [
    "scatter(normal(100, 25))"
   ]
  },
  {
   "cell_type": "markdown",
   "id": "7ee02075-06c2-4c7c-a515-3f18d8ed89d4",
   "metadata": {},
   "source": [
    "Let's investigate this more carefully:"
   ]
  },
  {
   "cell_type": "code",
   "execution_count": 11,
   "id": "3086e247-dce3-48ee-9819-ea8526a1289b",
   "metadata": {},
   "outputs": [
    {
     "data": {
      "text/plain": [
       "{78: 'sellback',\n",
       " 79: 'sellback',\n",
       " 80: 'sellback',\n",
       " 81: 'sellback',\n",
       " 82: 'sellback',\n",
       " 83: 'keep',\n",
       " 84: 'keep',\n",
       " 85: 'keep',\n",
       " 86: 'keep',\n",
       " 87: 'keep'}"
      ]
     },
     "execution_count": 11,
     "metadata": {},
     "output_type": "execute_result"
    }
   ],
   "source": [
    "p = normal(100, 25)\n",
    "E = expectation_fn(p)\n",
    "f = decision_fn(p)\n",
    "\n",
    "{bag: f(48, bag) for bag in range(78, 88)}"
   ]
  },
  {
   "cell_type": "markdown",
   "id": "f1281db2-373d-4f3e-9406-6f60f751e650",
   "metadata": {},
   "source": [
    "This says that with 48 coins we should sell back a bag of value of 82 or less, even though selling back means we can only get 3 bags instead of 4. The 3 bags will, on average, make up for it, because we can sell back bad ones 11 times. (The exact point at which 'sellback' switches to 'keep' will vary, depending on the samples in the distribution.)\n",
    "\n",
    "Here we compare the expected values of keeping versus selling back a bag of value 78:"
   ]
  },
  {
   "cell_type": "code",
   "execution_count": 12,
   "id": "db3cd7f9-993e-47a0-bddc-6aff66b8e343",
   "metadata": {},
   "outputs": [
    {
     "data": {
      "text/plain": [
       "380.0048248123251"
      ]
     },
     "execution_count": 12,
     "metadata": {},
     "output_type": "execute_result"
    }
   ],
   "source": [
    "78 + E(36) # What if we kept the bag of value 78, and got 3 other bags (about 100 each) for the 36 other coins?"
   ]
  },
  {
   "cell_type": "code",
   "execution_count": 13,
   "id": "3af8869b-75c0-4fe5-8e46-d780822d1919",
   "metadata": {},
   "outputs": [
    {
     "data": {
      "text/plain": [
       "384.36968315108277"
      ]
     },
     "execution_count": 13,
     "metadata": {},
     "output_type": "execute_result"
    }
   ],
   "source": [
    "E(47) # What if we sold back the 78-diamond bag, and selected 3 good bags with the remaining 47 coins?"
   ]
  },
  {
   "cell_type": "markdown",
   "id": "5c6d203f-19d8-4640-84d6-460635ac8367",
   "metadata": {},
   "source": [
    "We see that selling back is better."
   ]
  }
 ],
 "metadata": {
  "kernelspec": {
   "display_name": "Python 3 (ipykernel)",
   "language": "python",
   "name": "python3"
  },
  "language_info": {
   "codemirror_mode": {
    "name": "ipython",
    "version": 3
   },
   "file_extension": ".py",
   "mimetype": "text/x-python",
   "name": "python",
   "nbconvert_exporter": "python",
   "pygments_lexer": "ipython3",
   "version": "3.9.12"
  }
 },
 "nbformat": 4,
 "nbformat_minor": 5
}
