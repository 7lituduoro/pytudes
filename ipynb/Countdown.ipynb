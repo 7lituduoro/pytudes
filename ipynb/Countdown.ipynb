{
 "cells": [
  {
   "cell_type": "markdown",
   "metadata": {
    "button": false,
    "id": "at_OswnbKEA2",
    "new_sheet": false,
    "run_control": {
     "read_only": false
    }
   },
   "source": [
    "<div style=\"text-align:right\"><i>Peter Norvig<br>Jan 2016<br>revised 2018, 2020, 2021</i></div>\n",
    "\n",
    "# Making Numbers: Countdowns, Four 4s, Five 5s, ...\n",
    "\n",
    "In this notebook we solve a range of related puzzles that all involve making mathematical expressions by combining numbers and operators in various ways to make target numeric values.  First some imports, and then we can look at the first problem."
   ]
  },
  {
   "cell_type": "code",
   "execution_count": 1,
   "metadata": {
    "id": "M4UuEIKOKEA4"
   },
   "outputs": [],
   "source": [
    "from collections import Counter, defaultdict, namedtuple\n",
    "from fractions   import Fraction\n",
    "from functools   import lru_cache\n",
    "from itertools   import product, permutations\n",
    "from math        import sqrt, factorial, floor, ceil\n",
    "from operator    import add, sub, mul, neg, truediv as div\n",
    "from typing      import List, Tuple, Dict, Union, Sequence, Collection, Set, Optional\n",
    "import re\n",
    "import functools\n",
    "\n",
    "cache = functools.cache if 'cache' in functools.__dict__ else functools.lru_cache(None)"
   ]
  },
  {
   "cell_type": "markdown",
   "metadata": {
    "button": false,
    "id": "acj0YasvKEA5",
    "new_sheet": false,
    "run_control": {
     "read_only": false
    }
   },
   "source": [
    "# Countdown to 2016\n",
    "\n",
    "On January 1, 2016 Alex Bellos [posed](http://www.theguardian.com/science/2016/jan/04/can-you-solve-it-complete-the-equation-10-9-8-7-6-5-4-3-2-1-2016) (and subsequently [answered](http://www.theguardian.com/science/2016/jan/04/did-you-solve-it-complete-the-equation-10-9-8-7-6-5-4-3-2-1-2016)) this New Year's puzzle:\n",
    "\n",
    "- *Fill in the blanks so that this equation makes arithmetical sense:*\n",
    "\n",
    "            10 ␣ 9 ␣ 8 ␣ 7 ␣ 6 ␣ 5 ␣ 4 ␣ 3 ␣ 2 ␣ 1 = 2016\n",
    "\n",
    "- *You are allowed to use *only* the four basic arithmetical operations: +, -, &times;, ÷. But brackets (parentheses) can be used wherever needed. So, for example, the solution could begin as either:*\n",
    "\n",
    "            (10 + 9) × (8 ...\n",
    "            10 + (9 × 8) ..."
   ]
  },
  {
   "cell_type": "markdown",
   "metadata": {
    "button": false,
    "id": "Ief1-PqFKEA6",
    "new_sheet": false,
    "run_control": {
     "read_only": false
    }
   },
   "source": [
    "To solve this specific problem, I'll first solve the  more general problem: \n",
    "\n",
    "- *Given any sequence of numbers, place operations and brackets to form a dict of `{value: expression}` for every value that can be made.*\n",
    "\n",
    "I'll define  `expressions(numbers)` to return an **expression table**: a dict of `{value: expression}` for all expressions (strings) whose numeric value is a `value` that can be made using all the `numbers`, for example:\n",
    "\n",
    "    expressions((10,)) ⇒ {10: '10'}\n",
    "    expressions((9, 8)) ⇒ {1: '(9-8)', 1.125: '(9/8)', 17: '(9+8)', 72: '(9*8)'}\n",
    "\n",
    "I'll use the idea of [**dynamic programming**](https://en.wikipedia.org/wiki/Dynamic_programming): break the problem down into simpler subparts, compute an answer for each subpart, and remember intermediate results (with `lru_cache`) so we don't need to re-compute them later. How do we break the problem into parts? If there is only one number, then there is only one expression, the number itself. If there are multiple numbers, then consider all ways of splitting the numbers into two parts, finding all the expressions that can be made with each part, and combining pairs of expressions with any of the four operators (taking care not to divide by 0):"
   ]
  },
  {
   "cell_type": "code",
   "execution_count": 2,
   "metadata": {
    "id": "dyr0KdidKEA6"
   },
   "outputs": [],
   "source": [
    "Exp = str # An expression is a string, like '(10+(9-8))'\n",
    "ExpTable = Dict[float, Exp] # A table, like {11: '(10+(9-8))', ...}\n",
    "    \n",
    "@lru_cache(None)\n",
    "def expressions(numbers: tuple) -> ExpTable:\n",
    "    \"\"\"Return a {value: exp} table for all expressions that can be made from `numbers`.\"\"\"\n",
    "    if len(numbers) == 1: # expressions((10,)) => {10: '10'}\n",
    "        return {numbers[0]: str(numbers[0])}\n",
    "    else: \n",
    "        table = {}\n",
    "        for (Lnums, Rnums) in splits(numbers):\n",
    "            for (L, R) in product(expressions(Lnums), expressions(Rnums)):\n",
    "                Lexp, Rexp = '(' + expressions(Lnums)[L], expressions(Rnums)[R] + ')'\n",
    "                if R != 0: \n",
    "                    table[L / R] = Lexp + '/' + Rexp\n",
    "                table[L * R] = Lexp + '*' + Rexp\n",
    "                table[L - R] = Lexp + '-' + Rexp\n",
    "                table[L + R] = Lexp + '+' + Rexp\n",
    "        return table\n",
    "    \n",
    "def splits(sequence, start=1) -> List[Tuple[Sequence, Sequence]]:\n",
    "    \"Split sequence into two non-empty parts, in all ways.\"\n",
    "    return [(sequence[:i], sequence[i:]) \n",
    "            for i in range(start, len(sequence))]"
   ]
  },
  {
   "cell_type": "markdown",
   "metadata": {
    "button": false,
    "id": "ViyfBGBUKEA7",
    "new_sheet": false,
    "run_control": {
     "read_only": false
    }
   },
   "source": [
    "Some tests to make sure we got this right:"
   ]
  },
  {
   "cell_type": "code",
   "execution_count": 3,
   "metadata": {
    "button": false,
    "id": "8Ur6YFeGKEA7",
    "new_sheet": false,
    "run_control": {
     "read_only": false
    }
   },
   "outputs": [],
   "source": [
    "assert splits((3, 2, 1)) == [((3,), (2, 1)), \n",
    "                             ((3, 2), (1,))]\n",
    "\n",
    "assert expressions((3,)) == {3: '3'}\n",
    "assert expressions((2, 1)) == {1: '(2-1)', 2: '(2*1)', 3: '(2+1)'}\n",
    "assert expressions((3, 2)) == {1.5: '(3/2)', 6: '(3*2)',  1: '(3-2)', 5: '(3+2)'}\n",
    "assert expressions((1,)) == {1: '1'}\n",
    "\n",
    "assert expressions((3, 2, 1)) == {0: '((3-2)-1)', 0.5: '((3/2)-1)', 1: '((3-2)*1)',\n",
    " 1.5: '((3/2)*1)', 2: '((3-2)+1)', 2.5: '((3/2)+1)', 3: '(3*(2-1))',\n",
    " 4: '((3+2)-1)', 5: '((3+2)*1)', 6: '((3+2)+1)', 7: '((3*2)+1)', 9: '(3*(2+1))'}\n",
    "\n",
    "assert splits((5, 4, 3, 2, 1)) == [\n",
    "    ((5,), (4, 3, 2, 1)),                  \n",
    "    ((5, 4), (3, 2, 1)),             \n",
    "    ((5, 4, 3), (2, 1)),         \n",
    "    ((5, 4, 3, 2), (1,))]"
   ]
  },
  {
   "cell_type": "markdown",
   "metadata": {
    "button": false,
    "id": "awUDaaP4KEA7",
    "new_sheet": false,
    "run_control": {
     "read_only": false
    }
   },
   "source": [
    "That looks reasonable. Let's solve the whole puzzle.\n",
    "\n"
   ]
  },
  {
   "cell_type": "code",
   "execution_count": 4,
   "metadata": {
    "button": false,
    "id": "ORmQCY2sKEA8",
    "new_sheet": false,
    "outputId": "fd340dd3-57ca-4d9a-8cca-fbc203530c71",
    "run_control": {
     "read_only": false
    }
   },
   "outputs": [
    {
     "name": "stdout",
     "output_type": "stream",
     "text": [
      "CPU times: user 19.1 s, sys: 427 ms, total: 19.5 s\n",
      "Wall time: 19.5 s\n"
     ]
    },
    {
     "data": {
      "text/plain": [
       "'(((((((((10*9)+8)*7)-6)-5)-4)*3)+2)+1)'"
      ]
     },
     "execution_count": 4,
     "metadata": {},
     "output_type": "execute_result"
    }
   ],
   "source": [
    "c10 = (10, 9, 8, 7, 6, 5, 4, 3, 2, 1) # A countdown from 10 to 1\n",
    "\n",
    "%time expressions(c10)[2016]"
   ]
  },
  {
   "cell_type": "markdown",
   "metadata": {
    "button": false,
    "id": "PmeB8wYnKEA8",
    "new_sheet": false,
    "run_control": {
     "read_only": false
    }
   },
   "source": [
    "We have an answer! And in just seconds, thanks to dynamic programming! Here are solutions for nearby years:"
   ]
  },
  {
   "cell_type": "code",
   "execution_count": 5,
   "metadata": {
    "id": "8FuBcRp1KEA8",
    "outputId": "7b1e4c8b-4299-48c1-a023-2b5f1340de89"
   },
   "outputs": [
    {
     "data": {
      "text/plain": [
       "{2010: '((((((10+(((9*8)-7)*6))*5)+4)+3)+2)+1)',\n",
       " 2011: '((((((10+9)*8)+7)*(6+(5*(4/3))))-2)-1)',\n",
       " 2012: '((((((10+9)*8)+7)*(6+(5*(4/3))))-2)*1)',\n",
       " 2013: '((((((10+9)*8)+7)*(6+(5*(4/3))))-2)+1)',\n",
       " 2014: '(((((((10+((9*8)*7))-6)-5)*4)+3)-2)+1)',\n",
       " 2015: '(((((((((10*9)+8)*7)-6)-5)-4)*3)+2)*1)',\n",
       " 2016: '(((((((((10*9)+8)*7)-6)-5)-4)*3)+2)+1)',\n",
       " 2017: '(((10*(((9*8)-((7*6)/(5+4)))*3))-2)-1)',\n",
       " 2018: '(((10*(((9*8)-((7*6)/(5+4)))*3))-2)*1)',\n",
       " 2019: '(((10*(((9*8)-((7*6)/(5+4)))*3))-2)+1)',\n",
       " 2020: '(((((10+((9+((8+7)*6))*5))*4)+3)-2)-1)',\n",
       " 2021: '((((((((10-9)+(8*7))*6)-5)*4)*3)/2)-1)',\n",
       " 2022: '((((((((10-9)+(8*7))*6)-5)*4)*3)/2)*1)',\n",
       " 2023: '(((((10*(((9*8)*(7-6))-5))+4)*3)+2)-1)',\n",
       " 2024: '(((((10*(((9*8)*(7-6))-5))+4)*3)+2)*1)',\n",
       " 2025: '(((((10*(((9*8)*(7-6))-5))+4)*3)+2)+1)',\n",
       " 2026: '((((10+((((9*8)*7)*(6-5))*4))+3)-2)-1)',\n",
       " 2027: '((((10+((((9*8)*7)*(6-5))*4))+3)-2)*1)',\n",
       " 2028: '((((10+((((9*8)*7)*(6-5))*4))+3)-2)+1)',\n",
       " 2029: '(((((((10*9)+8)*7)*6)-((5*4)*3))/2)+1)'}"
      ]
     },
     "execution_count": 5,
     "metadata": {},
     "output_type": "execute_result"
    }
   ],
   "source": [
    "{y: expressions(c10)[y] for y in range(2010, 2030)}"
   ]
  },
  {
   "cell_type": "markdown",
   "metadata": {
    "button": false,
    "id": "Jnc1EI-jKEA9",
    "new_sheet": false,
    "run_control": {
     "read_only": false
    }
   },
   "source": [
    "# Counting Countdown Solutions\n",
    "\n",
    "Alex Bellos had another challenge:  \n",
    "\n",
    "- *I was half hoping a computer scientist would let me know exactly how many distinct solutions there are with only the four basic operations. Maybe someone will.*\n",
    "\n",
    "As it stands, my program can't answer that question, because I only keep one expression for each value. \n",
    "\n",
    "Also, I'm not sure what it means to be a distinct solution. For example, are `((10+9)+8)` and `(10+(9+8))` different, or are they same, because they both are equivalent to `(10+9+8)`? Similarly, are `((3-2)-1)` and `(3-(2+1))` different, or the same because they both are equivalent to `(3 + -2 + -1)`? I think the notion of \"distinct solution\" is just inherently ambiguous. My choice is to count each of these as distinct: every expression has exactly ten numbers, nine operators, and nine pairs of brackets, and if an expression differs in any character, it is different. But I won't argue with anyone who prefers a different definition of \"distinct solution.\"\n",
    "\n",
    "So how can I count expressions? I can mimic `expressions`, but make a table of counts, rather than expression strings. There is only 1 way to make a single number into an expression, and in general, combining two subexpressions into a larger expression using an operator can be done in a number of ways equal to the product of the ways each of the two subexpressions can be made:"
   ]
  },
  {
   "cell_type": "code",
   "execution_count": 6,
   "metadata": {
    "button": false,
    "id": "vFwgTkX5KEA9",
    "new_sheet": false,
    "run_control": {
     "read_only": false
    }
   },
   "outputs": [],
   "source": [
    "@lru_cache(None)\n",
    "def expression_counts(numbers: tuple) -> Counter:\n",
    "    \"Return a Counter of {value: count} for every value that can be made from numbers.\"\n",
    "    if len(numbers) == 1: # Only one way to make an expression out of a single number\n",
    "        return Counter(numbers)\n",
    "    else: \n",
    "        table = Counter()\n",
    "        for (Lnums, Rnums) in splits(numbers):\n",
    "            for L, R in product(expression_counts(Lnums), expression_counts(Rnums)):\n",
    "                count = expression_counts(Lnums)[L] * expression_counts(Rnums)[R]\n",
    "                if R != 0:\n",
    "                    table[L / R] += count\n",
    "                table[L + R] += count\n",
    "                table[L - R] += count\n",
    "                table[L * R] += count\n",
    "        return table"
   ]
  },
  {
   "cell_type": "code",
   "execution_count": 7,
   "metadata": {
    "id": "yQylOo2sKEA9"
   },
   "outputs": [],
   "source": [
    "assert expression_counts((3,)) == Counter({3: 1})\n",
    "assert expression_counts((3, 2, 1))[1] == 5 # (3-2)*1, (3-2)/1, 3-(2*1), 3-(2/1), 3/(2+1)"
   ]
  },
  {
   "cell_type": "markdown",
   "metadata": {
    "button": false,
    "id": "Ebxd9uiqKEA-",
    "new_sheet": false,
    "run_control": {
     "read_only": false
    }
   },
   "source": [
    "Looks good to me. Now let's see if we can answer Alex's question."
   ]
  },
  {
   "cell_type": "code",
   "execution_count": 8,
   "metadata": {
    "button": false,
    "id": "7ZxGAm3BKEA-",
    "new_sheet": false,
    "outputId": "9805792d-f64d-4301-8bbe-cac1b2379602",
    "run_control": {
     "read_only": false
    }
   },
   "outputs": [
    {
     "data": {
      "text/plain": [
       "30066"
      ]
     },
     "execution_count": 8,
     "metadata": {},
     "output_type": "execute_result"
    }
   ],
   "source": [
    "expression_counts(c10)[2016]"
   ]
  },
  {
   "cell_type": "markdown",
   "metadata": {
    "button": false,
    "id": "wjZxXvo3KEA-",
    "new_sheet": false,
    "run_control": {
     "read_only": false
    }
   },
   "source": [
    "This says there are 30,066 distinct expressions for 2016. Is that the answer Alex wanted?\n",
    "\n",
    "# The Trouble with Round-off Error\n",
    "\n",
    "I don't think it is the right answer. The trouble is: round-off error.\n",
    "\n",
    "Let's find all the values in `expressions(c10)` that are very near to 2016, within ±0.0000000001:"
   ]
  },
  {
   "cell_type": "code",
   "execution_count": 9,
   "metadata": {
    "button": false,
    "id": "YdcGqKnQKEA-",
    "new_sheet": false,
    "outputId": "afd74608-0f7f-491c-ebd9-d2ab3af4dcba",
    "run_control": {
     "read_only": false
    }
   },
   "outputs": [
    {
     "data": {
      "text/plain": [
       "{2016.0000000000002: '((((10*((9*(8+7))-(6/(5+4))))*3)/2)+1)',\n",
       " 2016.0: '(((((((((10*9)+8)*7)-6)-5)-4)*3)+2)+1)',\n",
       " 2015.9999999999995: '((((((10*9)*8)*7)*((6/5)-(4-3)))*2)*1)',\n",
       " 2015.999999999997: '(((10*9)*8)/(7-(6-(((5/(4+3))/2)-1))))',\n",
       " 2016.0000000000005: '(((((10*9)*8)*((((7*6)/5)-4)-3))*2)*1)',\n",
       " 2016.0000000000018: '((((((10*9)*8)*7)*(((6/5)-4)+3))*2)*1)',\n",
       " 2016.0000000000023: '(10*((9*8)/((7-(6-((5/(4+3))/2)))-1)))',\n",
       " 2015.9999999999998: '((10*((9*(((8-(7/6))*5)-(4*3)))+2))+1)',\n",
       " 2015.9999999999993: '(10*(((((9*8)*7)*6)/5)*(((4/3)-2)+1)))',\n",
       " 2016.000000000002: '(((10*9)*8)/((7-(6-((5/(4+3))/2)))-1))',\n",
       " 2015.999999999999: '((((10*9)*(8+7))-6)/(((5-(4/3))-2)-1))'}"
      ]
     },
     "execution_count": 9,
     "metadata": {},
     "output_type": "execute_result"
    }
   ],
   "source": [
    "{y: expressions(c10)[y]\n",
    " for y in expressions(c10)\n",
    " if abs(y - 2016) < 1e-10}"
   ]
  },
  {
   "cell_type": "markdown",
   "metadata": {
    "button": false,
    "id": "63M4_WGXKEA-",
    "new_sheet": false,
    "run_control": {
     "read_only": false
    }
   },
   "source": [
    "I suspect that all of these actually should be *exactly* equal to 2016. To determine if they are, I could re-do *all* the calculations using exact rational arithmetic, as provided by the `fractions.Fraction` class. From experience I know that would be at least an order of magnitude slower, so instead I'll just verify the small set of expressions in the output above. I'll define `exact(exp)` to return a string that, when passed to `eval`, will exactly calculate `exp` using rational arithmetic:"
   ]
  },
  {
   "cell_type": "code",
   "execution_count": 10,
   "metadata": {
    "id": "CyTarLLEKEA-",
    "outputId": "da5d0ef3-f4d5-4be5-99ee-192fe0efad6e"
   },
   "outputs": [
    {
     "data": {
      "text/plain": [
       "'Fraction(1)/(Fraction(5)-Fraction(2))'"
      ]
     },
     "execution_count": 10,
     "metadata": {},
     "output_type": "execute_result"
    }
   ],
   "source": [
    "def exact(exp) -> Exp: return re.sub(r\"([0-9]+)\", r\"Fraction(\\1)\", exp)\n",
    "\n",
    "exact('1/(5-2)')"
   ]
  },
  {
   "cell_type": "code",
   "execution_count": 11,
   "metadata": {
    "id": "ij0zaBmYKEA-"
   },
   "outputs": [],
   "source": [
    "assert eval(exact('1/(5-2)')) == Fraction(1, 3)"
   ]
  },
  {
   "cell_type": "markdown",
   "metadata": {
    "id": "Irm6kO0NKEA-"
   },
   "source": [
    "Now I can count up all the expressions in the `expression_counts(c10)` table that are near 2016, but with `exact` computation to check that the expressions evaluate to exactly 2016:"
   ]
  },
  {
   "cell_type": "code",
   "execution_count": 12,
   "metadata": {
    "id": "V29kQB9DKEA-",
    "outputId": "71a1824a-763d-4a9c-8462-beb881773d08"
   },
   "outputs": [
    {
     "data": {
      "text/plain": [
       "44499"
      ]
     },
     "execution_count": 12,
     "metadata": {},
     "output_type": "execute_result"
    }
   ],
   "source": [
    "sum(expression_counts(c10)[y] \n",
    "    for y, exp in expressions(c10).items()\n",
    "    if abs(y - 2016) < 1e-6 and eval(exact(exp)) == 2016)"
   ]
  },
  {
   "cell_type": "markdown",
   "metadata": {
    "button": false,
    "id": "eYF0lV23KEA_",
    "new_sheet": false,
    "run_control": {
     "read_only": false
    }
   },
   "source": [
    "I can claim that the answer is  **44,499**, but I would feel more confident if I did *all* the computations with exact arithmetic, and if the result was independently verified by someone else, and passed an extensive test suite. And of course, if you have a different definition of \"distinct solution,\" you will get a different answer."
   ]
  },
  {
   "cell_type": "markdown",
   "metadata": {
    "id": "SfUXmDX7KEA_"
   },
   "source": [
    "# Four 4s\n",
    "\n",
    "Alex Bellos continued his original puzzle column with a related puzzle:\n",
    "    \n",
    "> The most famous “fill in the gaps in the equation” puzzle is known as  [**four fours**](https://en.wikipedia.org/wiki/Four_fours), because every equation is of the form\n",
    ">\n",
    ">           4 ␣ 4 ␣ 4 ␣ 4 = x\n",
    ">\n",
    "> In the classic form of the puzzle you must find a solution for x = 0 to 9 using just addition, subtraction, multiplication and division (and brackets).\n",
    "\n",
    "This puzzle goes back to a [1914 publication](https://archive.org/details/mathematicalrecr00ball) by the mathematician/magician [W. W. Rouse Ball](https://en.wikipedia.org/wiki/W._W._Rouse_Ball). The solution is easy:"
   ]
  },
  {
   "cell_type": "code",
   "execution_count": 13,
   "metadata": {
    "id": "EtbIiPJtKEA_",
    "outputId": "86fcbddb-4773-4132-e7f4-9dda388881c2"
   },
   "outputs": [
    {
     "data": {
      "text/plain": [
       "{0: '(((4-4)-4)+4)',\n",
       " 1: '(((4/4)-4)+4)',\n",
       " 2: '((4/(4+4))*4)',\n",
       " 3: '(((4+4)+4)/4)',\n",
       " 4: '(((4-4)*4)+4)',\n",
       " 5: '(((4*4)+4)/4)',\n",
       " 6: '(((4+4)/4)+4)',\n",
       " 7: '((4-(4/4))+4)',\n",
       " 8: '(((4+4)/4)*4)',\n",
       " 9: '(((4/4)+4)+4)'}"
      ]
     },
     "execution_count": 13,
     "metadata": {},
     "output_type": "execute_result"
    }
   ],
   "source": [
    "{i: expressions((4, 4, 4, 4))[i] for i in range(10)}"
   ]
  },
  {
   "cell_type": "markdown",
   "metadata": {
    "id": "nVixjOMmKEA_"
   },
   "source": [
    "Note that I didn't do anything special to take advantage of the fact that in `(4, 4, 4, 4)` the digits are all the same. Happily, `@cache` does that for me automatically! If I split that into `(4, 4)` and `(4, 4)`, when it comes time to do the second half of the split, the result will already be in the cache, and so won't be recomputed."
   ]
  },
  {
   "cell_type": "markdown",
   "metadata": {
    "id": "Aq98pwf4KEA_"
   },
   "source": [
    "# New Math Operations, and Permutations\n",
    "\n",
    "Bellos then writes:\n",
    "    \n",
    "- *If you want to show off, you can introduce **new mathematical operations** such as powers, square roots, concatenation and decimals, ... or use the factorial symbol, `!`.*\n",
    "\n",
    "It seems there are a lot of similar puzzles that all have slightly different rules for which numbers are required and which operators are allowed. Many of the puzzles allow **permutations** of the digits: instead of requiring (2, 0, 1, 6) to appear in that order, they are allowed to appear in any order. Some allow **concatenation** of digits (e.g. the digits (1, 6) can form the expression `'16'`) and some allow **decimal points** (e.g., `'1.6'`). Some allow **unary operators** (e.g. `'√9'` or `'-(2*3)'`).\n",
    "\n",
    "Hanling these additional kinds of expressions introduces some issues; here's how I'll handle them:\n",
    "\n",
    "- **Imaginaries**: `√-1` is an imaginary number (I won't allow imaginary numbers).\n",
    "- **Irrationals**: `√2` is an irrational number (I'll use floating point approximations).\n",
    "- **Round-off error**:`49*(1/49) == 0.9999999999999999`, not `1` (I'll try to round off, but nmight make errors of ommission or commission).\n",
    "- **Overflow**: `10.^(9.^8.)` gives an `OverflowError` (I'll drop overflow results, possibly making an error of ommission).\n",
    "- **Unlikely numbers**: `(.9^(4!))^(√2)` is a valid number, but unlikely to eventually lead to an integer. (I'll drop unlikely operations.)\n",
    "- **Arbitraily deeply nested unary operators**: e.g, `√√√√√√√√(4!!!!!!!!)` (I'll limit the unary operator nesting level to 2).\n",
    "\n",
    "\n",
    "\n",
    "To facilitate solving a range of puzzles with different operators, I will redefine `expressions` to take a second argument, `ops`, specifying the allowable operators as a string of one-character codes. The table below lists binary operators in the left column; unary operators in the middle; and two pseudo-operations on digits on the right (I chose comma for concatenation, because it is familiar in numbers like: `'1,000,000'`).\n",
    "\n",
    "|Code|Operator|Code|Operator|Code|Operator|\n",
    "|------|--------|------|--------|----|---|\n",
    "|`+`|addition: 1 + 2 = 3      |`_`|unary minus: -2 = -2|`.`|decimal point: 1.23|\n",
    "|`-`|subtraction: 3 - 2 = 1   |`√`|square root: √9 = 3|`,`|concatenation of digits: 123|\n",
    "|`*`|multiplication: 2 * 3 = 6|`!`|factorial: 4! = 24 |\n",
    "|`/`|division: 6 / 3 = 2      |`⌊`|floor:⌊4.4⌋ = 4|\n",
    "|`^`|exponentiation: 2 ^ 3 = 8|`⌈`|ceiling: ⌈4.4⌉ = 5|\n",
    "\n",
    "\n",
    "I will define the data type `Operator` to define an operator, giving its code symbol, its arity (binary or unary), the Python function to call to do the calculation, the format string for unary operations, and for some operations, a `guard` that says when it is applicable. For example:\n",
    "  - Division is applicable when the second argument is not zero.\n",
    "  - I only allow square roots for a small range of positive numbers that become integers when multiplied by 9!.\n",
    "  - I only allow factorials for 0 to 9.\n",
    "\n",
    "These some that are not mathematically necessary, but keep the table from being overpopulated with numbers that are unlikely to help lead to solutions. Unfortunately, that means some good solutions will be missed. \n",
    "\n",
    "For binary operations, the symbol is used to construct the expression string, but for unary ops the `fmt` field gives a format string; this allows us to have prefix and postfix operators. The function `operators` picks out the operators you want from the `OPERATORS` global variable. You can augment this with new operators as you wish."
   ]
  },
  {
   "cell_type": "code",
   "execution_count": 14,
   "metadata": {
    "id": "YO8f1DE_KEA_"
   },
   "outputs": [],
   "source": [
    "def true(*args): return True\n",
    "\n",
    "Operator = namedtuple('Operator', 'symbol, func, fmt, guard', defaults=[None, true])\n",
    "\n",
    "OPERATORS = {\n",
    "    2: {Operator('+', add),\n",
    "        Operator('-', sub),\n",
    "        Operator('*', mul),\n",
    "        Operator('/', div,       None,  lambda L, R: R != 0),\n",
    "        Operator('^', pow,       None,  lambda L, R: -10 <= R <= 10 and (L > 0 or R == int(R)))},\n",
    "    1: {Operator('√', sqrt,      '√{}', lambda v: 0 < v <= 256 and (362880. * v).is_integer()),\n",
    "        Operator('!', factorial, '{}!', lambda v: v in range(10)),\n",
    "        Operator('_', neg,       '-{}'),\n",
    "        Operator('⌊', floor,     '⌊{}⌋'),\n",
    "        Operator('⌈', ceil,      '⌈{}⌉')}}\n",
    "\n",
    "OPS = '+-*/^_√!.,' # Default set of operators; omits floor and ceiling.\n",
    "\n",
    "def operators(arity: int, ops: str) -> List[Operator]:\n",
    "    \"\"\"All the operators in OPERATORS with given arity whose code symbol is one of `ops`.\"\"\"\n",
    "    return [op for op in OPERATORS[arity] if op.symbol in ops]"
   ]
  },
  {
   "cell_type": "markdown",
   "metadata": {
    "id": "GbpkLTRLKEA_"
   },
   "source": [
    "I'll define the function `operate` to compute an arithmetic operation, catch any errors, and try to correct round-off errors. The idea is that since my expressions start with integers, results that are close to an integer probably are that integer. So I'll correct `(49*(1/49))` to be `1.0`. Of course, an expression like `(1+(10^-99))` is also very close to `1.0`, but it should not be equal to `1`. Instead, I'll try to avoid such expressions by silently dropping (returning `None` from `operate`)  any intermediate value whose magnitude is outside the range of 10<sup>-10</sup> to 10<sup>10</sup> (except of course I will accept an exact 0)."
   ]
  },
  {
   "cell_type": "code",
   "execution_count": 15,
   "metadata": {
    "id": "JvaPXzvYKEA_"
   },
   "outputs": [],
   "source": [
    "def operate(operator, *args) -> Optional[float]: \n",
    "    \"Return op(*args), trying to correct for roundoff error, or `None` if too big/small/erroneous.\"\n",
    "    if operator.guard(*args):\n",
    "        try:\n",
    "            val = operator.func(*args)\n",
    "        except (ArithmeticError, ValueError):\n",
    "            return None\n",
    "        return (0.0        if val == 0                      else\n",
    "                None       if isinstance(val, complex)      else\n",
    "                None       if not (1e-10 < abs(val) < 1e10) else\n",
    "                round(val) if abs(val - round(val)) < 1e-12 else\n",
    "                val)"
   ]
  },
  {
   "cell_type": "markdown",
   "metadata": {
    "id": "8iIQXnyCKEA_"
   },
   "source": [
    "# Refactoring `expressions`\n",
    "\n",
    "I'll take this opportunity to refactor `expressions` to use the new `OPERATORS`. I introduce  three subfunctions:\n",
    "- `digit_expressions(digits, ops)`: returns a table of expressions made with all the digits, in the given order.\n",
    "  - If `','` is in `ops` allow concatenation of digits (e.g. `{44: '44'}`).\n",
    "  - If `'.'` is in ops allow decimals (e.g. `{4.4: '4.4', 0.44: '.44'}`. \n",
    "  - If `digits` is a single digit, always allow it (e.g. `{4: '4'}`).\n",
    "- `add_binary_expressions(table, numbers, ops, nesting)`: builds binary expressions using all numbers in order (e.g. `{5: '(2+3)'}`).\n",
    "- `add_unary_expressions(table, ops, nesting)`: add expressions like `√4` and `4!` to `table` and return `table`. \n",
    "\n"
   ]
  },
  {
   "cell_type": "code",
   "execution_count": 16,
   "metadata": {
    "button": false,
    "id": "valCpAKPKEA_",
    "new_sheet": false,
    "run_control": {
     "read_only": false
    }
   },
   "outputs": [],
   "source": [
    "@cache\n",
    "def expressions(numbers: Collection[int], ops=OPS, nesting=2, permute=False) -> ExpTable:\n",
    "    \"Return {value: expr} for all expressions that can be made from numbers using ops.\"\n",
    "    orderings = (permutations(numbers) if permute else [numbers])\n",
    "    table = {}\n",
    "    for nums in orderings:\n",
    "        table.update(digit_expressions(nums, ops))\n",
    "        add_binary_expressions(table, nums, ops, nesting)\n",
    "    return add_unary_expressions(table, ops, nesting)\n",
    "\n",
    "@cache\n",
    "def digit_expressions(digits: Tuple[int], ops: str) -> ExpTable:\n",
    "    \"\"\"Return {value: expr} for expressions made with all the digits, in the given order, \n",
    "    maybe with a decimal point.\"\"\"\n",
    "    D = ''.join(map(str, digits))\n",
    "    table = {}\n",
    "    if len(digits) == 1 or (',' in ops and not D.startswith('0')): \n",
    "        table[int(D)] = D\n",
    "    if '.' in ops: \n",
    "        for L, R in splits(D, 0):\n",
    "            if len(L) <= 1 or not D.startswith('0'):\n",
    "                decimal = L + '.' + R\n",
    "                table[float(decimal)] = decimal\n",
    "    return table\n",
    "\n",
    "\n",
    "def add_binary_expressions(table, numbers, ops, nesting) -> ExpTable:\n",
    "    \"Add binary expressions by splitting numbers and combining with an op.\"\n",
    "    binary_ops = operators(2, ops)\n",
    "    for (Lnums, Rnums) in splits(numbers):\n",
    "        Ltable = expressions(Lnums, ops, nesting, False)\n",
    "        Rtable = expressions(Rnums, ops, nesting, False)\n",
    "        for (L, R) in product(Ltable, Rtable):\n",
    "            Lexp, Rexp = '(' + Ltable[L], Rtable[R] + ')'\n",
    "            for op in binary_ops:\n",
    "                assign(table, operate(op, L, R), Lexp + op.symbol + Rexp)\n",
    "    return table\n",
    "                \n",
    "def add_unary_expressions(table, ops: str, nesting: int) -> ExpTable:\n",
    "    \"Add unary expressions (e.g. -v, √v and v!) to table\"\n",
    "    unary_ops = operators(1, ops)\n",
    "    for _ in range(nesting):\n",
    "        for v in tuple(table):\n",
    "            for op in unary_ops:\n",
    "                assign(table, operate(op, v), op.fmt.format(table[v]))\n",
    "    return table"
   ]
  },
  {
   "cell_type": "markdown",
   "metadata": {
    "id": "hgPctP5mKEA_"
   },
   "source": [
    "The function `assign` adds a `{val: exp}` entry to `table`, but if there is already an entry for `val`, it prefers the entry with the lowest total *weight*: the number of characters plus extra points for particularly complex characters. The idea is to prefer simpler expressions. If you prefer complex expressions, you can change the weights to be negative. The weights don't change how many different values can be made, they just change which of two or more expressions are chosen to represent a value."
   ]
  },
  {
   "cell_type": "code",
   "execution_count": 17,
   "metadata": {
    "id": "AEynbSq9KEA_"
   },
   "outputs": [],
   "source": [
    "def assign(table: dict, val: float, exp: str): \n",
    "    \"Assign table[val] = exp, unless we already have a lighter exp or val is None.\"\n",
    "    if val is not None and (val not in table or weight(exp) < weight(table[val])): \n",
    "        table[val] = exp\n",
    "        \n",
    "WEIGHTS = Counter({'√':4, '!':2, '.':1, '^':1, '/':0.2, '-':0.1, '⌊': 5, '⌈':5})\n",
    "        \n",
    "def weight(exp: str) -> int: return len(exp) + sum(WEIGHTS[c] for c in exp)"
   ]
  },
  {
   "cell_type": "code",
   "execution_count": 18,
   "metadata": {},
   "outputs": [
    {
     "data": {
      "text/plain": [
       "{16: '16', -16: '-16'}"
      ]
     },
     "execution_count": 18,
     "metadata": {},
     "output_type": "execute_result"
    }
   ],
   "source": [
    "add_unary_expressions({16: '16'}, '_', 2) "
   ]
  },
  {
   "cell_type": "markdown",
   "metadata": {
    "id": "G6lWcOR2KEA_"
   },
   "source": [
    "That's a lot of new code; let's have some tests:"
   ]
  },
  {
   "cell_type": "code",
   "execution_count": 19,
   "metadata": {
    "id": "mJJ8AxFXKEA_"
   },
   "outputs": [],
   "source": [
    "assert digit_expressions((1, 2), OPS) == {12: '12', 0.12: '.12', 1.2: '1.2'}\n",
    "assert digit_expressions((1, 2), ',') == {12: '12'}\n",
    "assert digit_expressions((1, 2), '.') == {.12: '.12', 1.2: '1.2'}\n",
    "assert digit_expressions((1, 2), '') == {} \n",
    "assert digit_expressions((0, 1, 2), OPS) == {0.012: '.012', 0.12: '0.12'}\n",
    "assert digit_expressions((0, 0, 7), '.') == {0.007: '.007', 0.07: '0.07'}\n",
    "\n",
    "assert add_unary_expressions({16: '16'}, '_', 2) == {16: '16', -16: '-16'}\n",
    "assert add_unary_expressions({16: '16'}, OPS, 2) == {16: '16', -16: '-16', 4: '√16', -4: '-√16', \n",
    "                                                      2: '√√16', 24: '√16!'}\n",
    "\n",
    "assert expressions((3, 2), '+-*,') == {32.0: '32', 5: '(3+2)', 1: '(3-2)', 6: '(3*2)'}\n",
    "assert expressions((1, 2, 3), '+^') == {6:'(1+(2+3))', 1:'(1^(2+3))', 9:'(1+(2^3))', \n",
    "                                        27:'((1+2)^3)', 4:'((1^2)+3)'}\n",
    "assert expressions((1, 2, 3), '+^', permute=True) == {\n",
    "    1: '(1^(2+3))', 2: '(2^(1^3))', 3: '((1^3)+2)', 4: '((1^2)+3)', 5: '((2^1)+3)', \n",
    "    6: '(1+(2+3))', 8: '((2^1)^3)', 9: '(1+(2^3))', 10: '(1+(3^2))', 16: '((1+3)^2)', 27: '((1+2)^3)'}"
   ]
  },
  {
   "cell_type": "markdown",
   "metadata": {
    "button": false,
    "id": "FRTRNPuAKEBA",
    "new_sheet": false,
    "run_control": {
     "read_only": false
    }
   },
   "source": [
    "I'll define a function to print a table of consecutive integers (starting at 0) that can be made by a sequence of numbers:"
   ]
  },
  {
   "cell_type": "code",
   "execution_count": 20,
   "metadata": {
    "button": false,
    "id": "ndmqhDXnKEBA",
    "new_sheet": false,
    "run_control": {
     "read_only": false
    }
   },
   "outputs": [],
   "source": [
    "def show(numbers: tuple, limit=None, ops=OPS, nesting=2, cols=4, permute=False):\n",
    "    \"\"\"Print expressions for integers from 0 up to limit or the first unmakeable integer.\"\"\"\n",
    "    table = expressions(numbers, ops, nesting, permute)\n",
    "    print(f'Can make 0 to {unmakeable(table)-1} with expressions({numbers}, ops=\"{ops}\", permute={permute}).'\n",
    "          f' [{len(table):,} table entries]\\n')\n",
    "    N = limit or unmakeable(table)\n",
    "    R = ceil(N / cols) # number of rows\n",
    "    for r in range(R):\n",
    "        print(*[f'{i:4} = {unbracket(table[i]):<19}'\n",
    "                for i in range(r, min(N, r + cols * R), R)])\n",
    "        \n",
    "def unmakeable(table) -> int:\n",
    "    \"\"\"The integer i such that table makes every integer from 0 to i - 1, but not i.\"\"\"\n",
    "    for i in range(len(table) + 1):\n",
    "        if i not in table:\n",
    "            return i\n",
    "              \n",
    "def unbracket(exp: str) -> str:\n",
    "    \"Strip outer parens from exp, if they are there\"\n",
    "    return (exp[1:-1] if exp.startswith('(') and exp.endswith(')') else exp)"
   ]
  },
  {
   "cell_type": "markdown",
   "metadata": {
    "id": "wozlX9EmKEBA",
    "tags": []
   },
   "source": [
    "# Four 4s with New Mathematical Operations"
   ]
  },
  {
   "cell_type": "code",
   "execution_count": 21,
   "metadata": {
    "id": "N43Lq2hKKEBA",
    "outputId": "51a24d77-2e45-453b-b329-0e9f24b4efed"
   },
   "outputs": [
    {
     "name": "stdout",
     "output_type": "stream",
     "text": [
      "Can make 0 to 72 with expressions((4, 4, 4, 4), ops=\"+-*/^_√!.,\", permute=False). [711,642 table entries]\n",
      "\n",
      "   0 = 44-44                 19 = 4!-(4+(4/4))          38 = 44-(4!/4)             57 = ((.4+4!)/.4)-4     \n",
      "   1 = 44/44                 20 = 4*(4+(4/4))           39 = 44-(√4/.4)            58 = ((4^4)-4!)/4       \n",
      "   2 = 4*(4/(4+4))           21 = (4+4.4)/.4            40 = 44-√(4*4)             59 = (4!/.4)-(4/4)      \n",
      "   3 = (4+(4+4))/4           22 = √4*(44/4)             41 = (.4+(4*4))/.4         60 = 44+(4*4)           \n",
      "   4 = 4+(4*(4-4))           23 = ((4*4!)-4)/4          42 = √4+(44-4)             61 = (4/4)+(4!/.4)      \n",
      "   5 = (4+(4*4))/4           24 = 4+(4+(4*4))           43 = 44-(4/4)              62 = (4*(4*4))-√4       \n",
      "   6 = 4+((4+4)/4)           25 = (4+(4*4!))/4          44 = 4+(44-4)              63 = ((4^4)-4)/4        \n",
      "   7 = (44/4)-4              26 = 4+(44/√4)             45 = 44+(4/4)              64 = (4+4)*(4+4)        \n",
      "   8 = 4+(4+(4-4))           27 = 4+(4!-(4/4))          46 = 4+(44-√4)             65 = (4+(4^4))/4        \n",
      "   9 = 4+(4+(4/4))           28 = 44-(4*4)              47 = 4!+(4!-(4/4))         66 = √4+(4*(4*4))       \n",
      "  10 = 44/4.4                29 = 4+(4!+(4/4))          48 = 4*(4+(4+4))           67 = √4+((4!+√4)/.4)    \n",
      "  11 = 44/√(4*4)             30 = (4+(4+4))/.4          49 = 44+(√4/.4)            68 = 4+(4*(4*4))        \n",
      "  12 = (4+44)/4              31 = 4!+((4+4!)/4)         50 = 44+(4!/4)             69 = (4+(4!-.4))/.4     \n",
      "  13 = 4!-(44/4)             32 = (4*4)+(4*4)           51 = (.4+(4!-4))/.4        70 = (4!+(4^4))/4       \n",
      "  14 = 4+(4+(4!/4))          33 = 4!+((4-.4)/.4)        52 = 4+(4+44)              71 = (4!+4.4)/.4        \n",
      "  15 = 4+(44/4)              34 = 44-(4/.4)             53 = 4!+(4!+(√4/.4))       72 = 4+(4!+44)          \n",
      "  16 = .4*(44-4)             35 = 4!+(44/4)             54 = 44+(4/.4)          \n",
      "  17 = (4/4)+(4*4)           36 = 44-(4+4)              55 = 44/(.4+.4)         \n",
      "  18 = .4+(4*4.4)            37 = ((.4+4!)/.4)-4!       56 = 4*(4+(4/.4))       \n",
      "CPU times: user 18.5 s, sys: 18.5 ms, total: 18.6 s\n",
      "Wall time: 18.6 s\n"
     ]
    }
   ],
   "source": [
    "%time show((4, 4, 4, 4))"
   ]
  },
  {
   "cell_type": "markdown",
   "metadata": {
    "button": false,
    "id": "QJM1oLz4KEBA",
    "new_sheet": false,
    "run_control": {
     "read_only": false
    }
   },
   "source": [
    "We can also solve the \"2016 with four fours\" puzzle:"
   ]
  },
  {
   "cell_type": "code",
   "execution_count": 22,
   "metadata": {
    "button": false,
    "id": "ZWCn9F1_KEBA",
    "new_sheet": false,
    "outputId": "445baaed-5cf4-428c-fb23-a64d3d5f3aec",
    "run_control": {
     "read_only": false
    }
   },
   "outputs": [
    {
     "data": {
      "text/plain": [
       "'((4+4)!/(4!-4))'"
      ]
     },
     "execution_count": 22,
     "metadata": {},
     "output_type": "execute_result"
    }
   ],
   "source": [
    "expressions((4, 4, 4, 4), OPS, 2)[2016]"
   ]
  },
  {
   "cell_type": "markdown",
   "metadata": {
    "button": false,
    "id": "uDSx_LGeKEBA",
    "new_sheet": false,
    "run_control": {
     "read_only": false
    }
   },
   "source": [
    "In a [separate video](https://www.youtube.com/embed/Noo4lN-vSvw), Alex Bellos shows  how to form **every** integer from 0 to infinity using four 4s, if unlimited numbers of square root and `log` functions are allowed. The solution comes from Paul Dirac (although [Dirac originally developed it](https://nebusresearch.wordpress.com/2014/04/18/how-dirac-made-every-number/) for the \"four 2s\" problem).\n",
    "\n",
    "Donald Knuth [conjectured](https://www.tandfonline.com/doi/abs/10.1080/0025570X.1964.11975546) that with floor, square root and factorial, you can make any positive integer with just **one** 4. (We would need more efficient ways of dealing with very large numbers to make progress on Knuth's problem.)"
   ]
  },
  {
   "cell_type": "markdown",
   "metadata": {
    "button": false,
    "id": "uDSx_LGeKEBA",
    "new_sheet": false,
    "run_control": {
     "read_only": false
    }
   },
   "source": [
    "Below are some popular variant problems:\n",
    "\n",
    "# Four 2s"
   ]
  },
  {
   "cell_type": "code",
   "execution_count": 23,
   "metadata": {
    "id": "e807aDInKEBA",
    "outputId": "e672d88a-bc1d-456d-da6b-b720c878e939"
   },
   "outputs": [
    {
     "name": "stdout",
     "output_type": "stream",
     "text": [
      "Can make 0 to 30 with expressions((2, 2, 2, 2), ops=\"+-*/^_√!.,\", permute=False). [109,291 table entries]\n",
      "\n",
      "   0 = 22-22                  8 = 2+(2+(2+2))           16 = 2*(2*(2+2))           24 = 22+√(2+2)          \n",
      "   1 = 22/22                  9 = (22/2)-2              17 = 22-(√.2^-2)           25 = (2-2.2)^-2         \n",
      "   2 = 2+(2*(2-2))           10 = 22/2.2                18 = 22-(2+2)              26 = 2+(2+22)           \n",
      "   3 = (2+(2+2))/2           11 = 22/√(2+2)             19 = (2+(2-.2))/.2         27 = 22+(√.2^-2)        \n",
      "   4 = .2*(22-2)             12 = (2+22)/2              20 = 22-√(2+2)             28 = 2+(2+(2+2)!)       \n",
      "   5 = 2+(2+(2/2))           13 = 2+(22/2)              21 = 22-(2/2)              29 = 2+(2+(.2^-2))      \n",
      "   6 = (2*(2+2))-2           14 = (2^(2+2))-2           22 = 2+(22-2)              30 = (2+(2+2))/.2       \n",
      "   7 = 2+(2/(2*.2))          15 = (2+(2/2))/.2          23 = 22+(2/2)           \n"
     ]
    }
   ],
   "source": [
    "show((2, 2, 2, 2))"
   ]
  },
  {
   "cell_type": "markdown",
   "metadata": {
    "id": "_AuWPOGXKEBA"
   },
   "source": [
    "# Four 9s"
   ]
  },
  {
   "cell_type": "code",
   "execution_count": 24,
   "metadata": {
    "id": "Ll4xl6TOKEBA",
    "outputId": "850ea56d-da8b-4f1f-c684-ba75f1c60afb"
   },
   "outputs": [
    {
     "name": "stdout",
     "output_type": "stream",
     "text": [
      "Can make 0 to 61 with expressions((9, 9, 9, 9), ops=\"+-*/^_√!.,\", permute=False). [774,333 table entries]\n",
      "\n",
      "   0 = 99-99                 16 = 9+((9/.9)-√9)         32 = (99-√9)/√9            48 = √9!*(9-(9/9))      \n",
      "   1 = 99/99                 17 = 9+(9-(9/9))           33 = √9*(99/9)             49 = 9+(√9!*(√9!/.9))   \n",
      "   2 = (99/9)-9              18 = 99-(9*9)              34 = (√9+99)/√9            50 = ((9*√9!)-9)/.9     \n",
      "   3 = (9+(9+9))/9           19 = 9+(9+(9/9))           35 = (√9!+99)/√9           51 = 9*(9-(√9/.9))      \n",
      "   4 = 9-(9/(.9+.9))         20 = 9+(99/9)              36 = 9+(9+(9+9))           52 = √9!*(9-(√9/9))     \n",
      "   5 = √9+((9+9)/9)          21 = (9+9.9)/.9            37 = (9/.9)+(9*√9)         53 = (9*√9!)-(9/9)      \n",
      "   6 = ((9+(9+9))/9)!        22 = 9+(√9+(9/.9))         38 = √9!*(√9+(√9/.9))      54 = (9*9)-(9*√9)       \n",
      "   7 = 9-((9+9)/9)           23 = √9+((9+9)/.9)         39 = 9+(9*(√9/.9))         55 = 99/(.9+.9)         \n",
      "   8 = ((9*9)-9)/9           24 = (99/√9)-9             40 = (9+(9*√9))/.9         56 = 9!/(9*(9-√9)!)     \n",
      "   9 = 9+(9*(9-9))           25 = 9+(√9!+(9/.9))        41 = (.9+(√9!*√9!))/.9     57 = √9*(9+(9/.9))      \n",
      "  10 = 99/9.9                26 = (9*√9)-(9/9)          42 = 9+(99/√9)             58 = √9!*(9+(√9!/9))    \n",
      "  11 = 9+((9+9)/9)           27 = 9+(9+√(9*9))          43 = √9+(√9!*(√9!/.9))     59 = ((9*√9!)-.9)/.9    \n",
      "  12 = (9+99)/9              28 = 9+(9+(9/.9))          44 = (9*√9!)-(9/.9)        60 = √9*((9+9)/.9)      \n",
      "  13 = 9+(√9+(9/9))          29 = 9+((9+9)/.9)          45 = 9*(9/(.9+.9))         61 = (.9+(9*√9!))/.9    \n",
      "  14 = √9+(99/9)             30 = (9+(9+9))/.9          46 = (9/.9)+(√9!*√9!)   \n",
      "  15 = 9+((9+9)/√9)          31 = (.9+(9*√9))/.9        47 = √9*(9+(√9!/.9))    \n"
     ]
    }
   ],
   "source": [
    "show((9, 9, 9, 9))"
   ]
  },
  {
   "cell_type": "markdown",
   "metadata": {
    "id": "PfcnRnoAKEBA"
   },
   "source": [
    "# Four 5s"
   ]
  },
  {
   "cell_type": "code",
   "execution_count": 25,
   "metadata": {
    "button": false,
    "id": "Mmed82RmKEBA",
    "new_sheet": false,
    "outputId": "cbc51a80-8fff-43cd-fa56-390c201f3d4e",
    "run_control": {
     "read_only": false
    }
   },
   "outputs": [
    {
     "name": "stdout",
     "output_type": "stream",
     "text": [
      "Can make 0 to 38 with expressions((5, 5, 5, 5), ops=\"+-*/^_√!.,\", permute=False). [344,933 table entries]\n",
      "\n",
      "   0 = 55-55                 10 = 55/5.5                20 = 5+(5+(5+5))           30 = 55-(5*5)           \n",
      "   1 = 55/55                 11 = 5.5+5.5               21 = (5+5.5)/.5            31 = 55-(5!/5)          \n",
      "   2 = 5!/(5+55)             12 = (5+55)/5              22 = 55/(5*.5)             32 = (5.5-5)^-5         \n",
      "   3 = (5+(5+5))/5           13 = (5!-55)/5             23 = 55-(.5^-5)            33 = .5*(5!*.55)        \n",
      "   4 = ((5*5)-5)/5           14 = (5!/5)-(5+5)          24 = (5*5)-(5/5)           34 = 5+(5+(5!/5))       \n",
      "   5 = 5+(5*(5-5))           15 = (5*5)-(5+5)           25 = .5*(55-5)             35 = 5+(5+(5*5))        \n",
      "   6 = (55/5)-5              16 = 5+(55/5)              26 = (5/5)+(5*5)           36 = (5!+(.5*5!))/5     \n",
      "   7 = 5+((5+5)/5)           17 = 5+(5!/(5+5))          27 = (5*5.5)-.5            37 = 5+(.5^-√(5*5))     \n",
      "   8 = 5.5+(5*.5)            18 = ((5!-5)/5)-5          28 = .5+(5*5.5)            38 = ((5!/5)-5)/.5      \n",
      "   9 = 5+(5-(5/5))           19 = (5!-(5*5))/5          29 = (5!+(5*5))/5       \n",
      "CPU times: user 9.37 s, sys: 5.85 ms, total: 9.37 s\n",
      "Wall time: 9.37 s\n"
     ]
    }
   ],
   "source": [
    "%time show((5, 5, 5, 5))"
   ]
  },
  {
   "cell_type": "markdown",
   "metadata": {
    "button": false,
    "id": "-5Qpw6s3KEBA",
    "new_sheet": false,
    "run_control": {
     "read_only": false
    }
   },
   "source": [
    "\n",
    "# Countdown to New Year's\n",
    "\n",
    "Now another type of New Year's countdown puzzle. On December 31 2017, [Michael Littman](http://cs.brown.edu/~mlittman/) posted this:\n",
    "\n",
    "> 2+0+1×8, 2+0-1+8, (2+0-1)×8, |2-0-1-8|, -2-0+1×8, -(2+0+1-8), √|2+0-18|, 2+0+1^8, 20-18, 2^(0×18), 2×0×1×8... Happy New Year!\n",
    "\n",
    "Can we replicate that countdown? For 2018 and for following years?"
   ]
  },
  {
   "cell_type": "code",
   "execution_count": 26,
   "metadata": {},
   "outputs": [
    {
     "name": "stdout",
     "output_type": "stream",
     "text": [
      "10 = (2.0+(1*8))\n",
      " 9 = ((2.0-1)+8)\n",
      " 8 = ((2.0-1)*8)\n",
      " 7 = (-2.0+(1+8))\n",
      " 6 = (-2.0+(1*8))\n",
      " 5 = (-(2.0+1)+8)\n",
      " 4 = (20*(1-.8))\n",
      " 3 = (2.0+(1^8))\n",
      " 2 = (20-18)\n",
      " 1 = (2^(.0*18))\n",
      " 0 = (2*(.0*18))\n",
      "\n",
      "\n",
      "10 = (20-(1+9))\n",
      " 9 = ((2.0-1)*9)\n",
      " 8 = (-2.0+(1+9))\n",
      " 7 = (-2.0+(1*9))\n",
      " 6 = (-(2.0+1)+9)\n",
      " 5 = (.20^(-1^9))\n",
      " 4 = ((-.20^-1)+9)\n",
      " 3 = (2.0+(1^9))\n",
      " 2 = (20/(1+9))\n",
      " 1 = (20-19)\n",
      " 0 = (2*(.0*19))\n",
      "\n",
      "\n",
      "10 = (2/0.20)\n",
      " 9 = ((20/2)-.0!)\n",
      " 8 = (2^(.0!+2.0))\n",
      " 7 = (2+(.0!/.20))\n",
      " 6 = (2*(.0!+2.0))\n",
      " 5 = ((2^.0)/.20)\n",
      " 4 = (20*.20)\n",
      " 3 = (2+(.02^.0))\n",
      " 2 = (2+(.0*20))\n",
      " 1 = (20/20)\n",
      " 0 = (20-20)\n",
      "\n",
      "\n",
      "10 = (20/(2*1))\n",
      " 9 = ((20/2)-1)\n",
      " 8 = (2.0^(2+1))\n",
      " 7 = (2+(0.2^-1))\n",
      " 6 = (2.0*(2+1))\n",
      " 5 = (2.0+(2+1))\n",
      " 4 = (20*(2*.1))\n",
      " 3 = (2.0+(2-1))\n",
      " 2 = (2+(.0*21))\n",
      " 1 = (-20+21)\n",
      " 0 = (2*(.0*21))\n",
      "\n",
      "\n",
      "10 = (20-(2/.2))\n",
      " 9 = ((20-2)/2)\n",
      " 8 = ((20/2)-2)\n",
      " 7 = (2+(.0!+(2+2)))\n",
      " 6 = (2.0+(2+2))\n",
      " 5 = (20/(2+2))\n",
      " 4 = (-20+(2+2)!)\n",
      " 3 = (2.0+(2/2))\n",
      " 2 = (-20+22)\n",
      " 1 = (20^(2-2))\n",
      " 0 = (20*(2-2))\n",
      "\n",
      "\n",
      "10 = (2.0*(2+3))\n",
      " 9 = (((2^.0)+2)*3)\n",
      " 8 = (2.0+(2*3))\n",
      " 7 = ((20/2)-3)\n",
      " 6 = ((20-2)/3)\n",
      " 5 = (.20^(2-3))\n",
      " 4 = (20/(2+3))\n",
      " 3 = (-20+23)\n",
      " 2 = (2+(.0*23))\n",
      " 1 = (.20*(2+3))\n",
      " 0 = (2*(.0*23))\n",
      "\n",
      "\n",
      "10 = (20*(2/4))\n",
      " 9 = ((20-2)/√4)\n",
      " 8 = (2.0+(2+4))\n",
      " 7 = (2.0+(2/.4))\n",
      " 6 = ((20/2)-4)\n",
      " 5 = ((2.0/2)+4)\n",
      " 4 = (-20+24)\n",
      " 3 = ((2.0/-2)+4)\n",
      " 2 = (2+(.0*24))\n",
      " 1 = (20*(.2/4))\n",
      " 0 = (2*(.0*24))\n",
      "\n",
      "\n"
     ]
    }
   ],
   "source": [
    "def countdown(years):\n",
    "    \"\"\"Print a countdown using the digits of this year, in order.\"\"\"\n",
    "    for year in years:\n",
    "        table = expressions(tuple(int(d) for d in str(year)))\n",
    "        for i in reversed(range(11)):\n",
    "            print(f'{i:2d} = {table[i]}')\n",
    "        print('\\n')\n",
    "        \n",
    "countdown(range(2018, 2025))"
   ]
  },
  {
   "cell_type": "markdown",
   "metadata": {
    "id": "PPs4y4mxKEBB"
   },
   "source": [
    "# Can you make 24?\n",
    "\n",
    "In the [538 Riddler for July 10th 2020](https://fivethirtyeight.com/features/can-you-make-24/), Zach Wissner-Gross asks \"Can you make 24?\" from the digits (2, 3, 3, 4), in any order, with just the five binary operators. "
   ]
  },
  {
   "cell_type": "code",
   "execution_count": 27,
   "metadata": {},
   "outputs": [
    {
     "data": {
      "text/plain": [
       "'(((3^2)-3)*4)'"
      ]
     },
     "execution_count": 27,
     "metadata": {},
     "output_type": "execute_result"
    }
   ],
   "source": [
    "expressions((2, 3, 3, 4), '+-*/^', permute=True)[24]"
   ]
  },
  {
   "cell_type": "markdown",
   "metadata": {
    "id": "PPs4y4mxKEBB"
   },
   "source": [
    "For extra credit, Zach asks for **multiple ways** to make 24. \n",
    "\n",
    "We haven't dealt with reporting multiple ways to make a number; the `ExpTable` only keeps one. I'll try collecting one expression from each permutation of the numbers. If there are multiple ways from a single permutation we won't keep more than one of those, but this approach won't give you every way (in general), but it should be good enough to answer Zach's question."
   ]
  },
  {
   "cell_type": "code",
   "execution_count": 28,
   "metadata": {
    "id": "dLZMMnH-KEBB",
    "outputId": "9e964cef-f10d-49fd-faf6-bc171de07344"
   },
   "outputs": [
    {
     "data": {
      "text/plain": [
       "{'(((3^2)-3)*4)',\n",
       " '(((4-2)^3)*3)',\n",
       " '(3*((4-2)^3))',\n",
       " '(3*(4^(3/2)))',\n",
       " '(3/((2/4)^3))',\n",
       " '(4*((3^2)-3))'}"
      ]
     },
     "execution_count": 28,
     "metadata": {},
     "output_type": "execute_result"
    }
   ],
   "source": [
    "def can_make(total: int, numbers: tuple, ops='+-*/^') -> Set[Exp]:\n",
    "    \"\"\"Can we make the total from the numbers (in any order)? Return a set of expressions.\"\"\"\n",
    "    return {expressions(nums, ops)[total]\n",
    "            for nums in set(permutations(numbers))\n",
    "            if total in expressions(nums, ops)}\n",
    "\n",
    "can_make(24, (2, 3, 3, 4))"
   ]
  },
  {
   "cell_type": "markdown",
   "metadata": {
    "id": "sNnNDjCvKEBB"
   },
   "source": [
    "Readers suggested other interesting tuples of numbers:"
   ]
  },
  {
   "cell_type": "code",
   "execution_count": 29,
   "metadata": {
    "id": "snhb7k8OKEBB",
    "outputId": "44f3cf49-aa56-4900-f510-3eedb4970307"
   },
   "outputs": [
    {
     "data": {
      "text/plain": [
       "{'(((2*8)-8)*3)',\n",
       " '(((8*2)-8)*3)',\n",
       " '((2^(8-3))-8)',\n",
       " '((2^3)+(8+8))',\n",
       " '((8-(2+3))*8)',\n",
       " '((8-(3+2))*8)',\n",
       " '(3*((2*8)-8))',\n",
       " '(3*((8*2)-8))',\n",
       " '(3*((8+8)/2))',\n",
       " '(8*(8-(2+3)))',\n",
       " '(8*(8-(3+2)))'}"
      ]
     },
     "execution_count": 29,
     "metadata": {},
     "output_type": "execute_result"
    }
   ],
   "source": [
    "can_make(24, (2, 3, 8, 8))"
   ]
  },
  {
   "cell_type": "code",
   "execution_count": 30,
   "metadata": {
    "id": "gia8RdaUKEBB",
    "outputId": "46852452-3ebd-4718-ad7a-52d4fc6de9bf"
   },
   "outputs": [
    {
     "data": {
      "text/plain": [
       "{'(((10-3)*2)+10)',\n",
       " '((2*(10-3))+10)',\n",
       " '((2^10)-(10^3))',\n",
       " '(10+((10-3)*2))',\n",
       " '(10+(2*(10-3)))',\n",
       " '(10-((3-10)*2))',\n",
       " '(10-(2*(3-10)))'}"
      ]
     },
     "execution_count": 30,
     "metadata": {},
     "output_type": "execute_result"
    }
   ],
   "source": [
    "can_make(24, (2, 3, 10, 10))"
   ]
  },
  {
   "cell_type": "code",
   "execution_count": 31,
   "metadata": {
    "id": "VhhMQ33sKEBB",
    "outputId": "66fe6857-f940-409b-aa2a-04fdb00e064e"
   },
   "outputs": [
    {
     "data": {
      "text/plain": [
       "{'(8/(3-(8/3)))'}"
      ]
     },
     "execution_count": 31,
     "metadata": {},
     "output_type": "execute_result"
    }
   ],
   "source": [
    "can_make(24, (3, 3, 8, 8))"
   ]
  },
  {
   "cell_type": "code",
   "execution_count": 32,
   "metadata": {
    "id": "nbcNqMdFKEBB",
    "outputId": "e3d17354-e297-4ded-9193-5fe615902072"
   },
   "outputs": [
    {
     "data": {
      "text/plain": [
       "{'(((3*6)-6)*2)',\n",
       " '(((3+2)*6)-6)',\n",
       " '(((3+6)*2)+6)',\n",
       " '(((6+3)*2)+6)',\n",
       " '((2*(3+6))+6)',\n",
       " '((2*(6+3))+6)',\n",
       " '((2+6)*(6-3))',\n",
       " '(6*(6*(2/3)))',\n",
       " '(6+((3+6)*2))',\n",
       " '(6+((6+3)*2))',\n",
       " '(6+(2*(3+6)))',\n",
       " '(6+(2*(6+3)))'}"
      ]
     },
     "execution_count": 32,
     "metadata": {},
     "output_type": "execute_result"
    }
   ],
   "source": [
    "can_make(24, (2, 3, 6, 6))"
   ]
  },
  {
   "cell_type": "code",
   "execution_count": 33,
   "metadata": {
    "id": "L8SAsmSrKEBB",
    "outputId": "33874782-4dcd-460e-dfaf-140fe71bf502"
   },
   "outputs": [
    {
     "data": {
      "text/plain": [
       "{'((5^2)-(0^0))'}"
      ]
     },
     "execution_count": 33,
     "metadata": {},
     "output_type": "execute_result"
    }
   ],
   "source": [
    "can_make(24, (0, 0, 2, 5))"
   ]
  },
  {
   "cell_type": "markdown",
   "metadata": {
    "id": "77JudWtrKEBB"
   },
   "source": [
    "This relies on 0<sup>0</sup> = 1, which Python agrees with, but some mathematicians treat as [undefined](https://en.wikipedia.org/wiki/Zero_to_the_power_of_zero).\n",
    "\n",
    "Nicolas Schank asked for the following in the Facebook \"omg math\" group:"
   ]
  },
  {
   "cell_type": "code",
   "execution_count": 34,
   "metadata": {
    "id": "VDlW5eWVKEBB",
    "outputId": "d2d3e78c-485f-407a-8888-579ba423f1d2"
   },
   "outputs": [
    {
     "data": {
      "text/plain": [
       "{'(10-(6/(13-11))!)!'}"
      ]
     },
     "execution_count": 34,
     "metadata": {},
     "output_type": "execute_result"
    }
   ],
   "source": [
    "can_make(24, (13, 11, 10, 6), '+-*/^!')"
   ]
  },
  {
   "cell_type": "code",
   "execution_count": 35,
   "metadata": {
    "id": "5GYEEXhnKEBB",
    "outputId": "bdee3db6-f560-4b4f-ba2a-036b4d8ee1b3"
   },
   "outputs": [
    {
     "data": {
      "text/plain": [
       "{'(8/((1^9)+1))!', '(8/(1+(1^9)))!'}"
      ]
     },
     "execution_count": 35,
     "metadata": {},
     "output_type": "execute_result"
    }
   ],
   "source": [
    "can_make(24, (9, 8, 1, 1), '+-*/^!')"
   ]
  },
  {
   "cell_type": "code",
   "execution_count": 36,
   "metadata": {
    "id": "pqZLLXXCKEBB",
    "outputId": "97da7ef1-2033-45d0-f636-1ea7bc14d126"
   },
   "outputs": [
    {
     "data": {
      "text/plain": [
       "{'(9!/(7!+(7!+7!)))'}"
      ]
     },
     "execution_count": 36,
     "metadata": {},
     "output_type": "execute_result"
    }
   ],
   "source": [
    "can_make(24, (9, 7, 7, 7), '+-*/^!')"
   ]
  },
  {
   "cell_type": "markdown",
   "metadata": {
    "id": "pdDW9gGHKEBB"
   },
   "source": [
    "# Making 6 from 3 Digits\n",
    "\n",
    "Another Facebook \"omg math\" problem:\n",
    "\n",
    " *For each digit, find a way to express 6 using only that digit exactly three times and arithmetic operations. E.g., for the digit 2, `'2+2+2'` = 6.*\n",
    "\n",
    "This is easy if \"arithmetic operations\" include square root and factorial:"
   ]
  },
  {
   "cell_type": "code",
   "execution_count": 37,
   "metadata": {
    "id": "CoKnbYBxKEBB",
    "outputId": "dd72b838-7b22-4080-9b29-739585881ce7"
   },
   "outputs": [
    {
     "name": "stdout",
     "output_type": "stream",
     "text": [
      "6 = (0!+(0!+0!))!\n",
      "6 = (1+(1+1))!\n",
      "6 = (2+(2+2))\n",
      "6 = ((3*3)-3)\n",
      "6 = (4-(4/4))!\n",
      "6 = (5+(5/5))\n",
      "6 = (6+(6-6))\n",
      "6 = (7-(7/7))\n",
      "6 = √(8+(8/8))!\n",
      "6 = ((9+9)/√9)\n"
     ]
    }
   ],
   "source": [
    "for n in range(10):\n",
    "    print(f\"6 = {expressions((n, n, n), '+-*/√!').get(6)}\")"
   ]
  },
  {
   "cell_type": "markdown",
   "metadata": {
    "id": "eFFOUF7EKEBB",
    "tags": []
   },
   "source": [
    "# Even More Fours: The Power of Floor and Ceiling\n",
    "\n",
    "With the standard set of `OPS`, we got all the integers up to 72 with four 4s. If we add the floor and ceiling operators, we get a big jump: suddenly, all the results of a division or a square root that didn't form an integer can now be coerced into integers. Instead of getting the integers only up to 72, we now get all the way up to 1644 (although it takes a full minute to get there, and I'll just show the first 100, to sace space):"
   ]
  },
  {
   "cell_type": "code",
   "execution_count": 38,
   "metadata": {
    "id": "jbJsFkNZKEBC",
    "outputId": "fea9ae24-2e75-4a11-8098-162790f91625"
   },
   "outputs": [
    {
     "name": "stdout",
     "output_type": "stream",
     "text": [
      "Can make 0 to 1644 with expressions((4, 4, 4, 4), ops=\"+-*/^_√!.,⌊⌈\", permute=False). [1,184,901 table entries]\n",
      "\n",
      "   0 = 44-44                 25 = (4+(4*4!))/4          50 = 44+(4!/4)             75 = (4!+(4!/4))/.4     \n",
      "   1 = 44/44                 26 = 4+(44/√4)             51 = 44+⌈√44⌉              76 = (4*(4!-4))-4       \n",
      "   2 = 4*(4/(4+4))           27 = 4+(4!-(4/4))          52 = 4+(4+44)              77 = ⌈(44*(4^.4))⌉      \n",
      "   3 = (4+(4+4))/4           28 = 44-(4*4)              53 = 44+⌊(.4*4!)⌋          78 = (4*(4!-4))-√4      \n",
      "   4 = ⌊4.444⌋               29 = 4+(4!+(4/4))          54 = 44+(4/.4)             79 = ⌈(4*(4!-4.4))⌉     \n",
      "   5 = ⌈4.444⌉               30 = (4+(4+4))/.4          55 = 44/(.4+.4)            80 = 4*(4+(4*4))        \n",
      "   6 = 4+((4+4)/4)           31 = 4!+((4+4!)/4)         56 = 4*(4+(4/.4))          81 = (4-(4/4))^4        \n",
      "   7 = (44/4)-4              32 = (4*4)+(4*4)           57 = ((.4+4!)/.4)-4        82 = √4+(4*(4!-4))      \n",
      "   8 = 4+(4+(4-4))           33 = ⌊(4*(4+4.4))⌋         58 = ((4^4)-4!)/4          83 = 44+⌊(.4^-4)⌋       \n",
      "   9 = 4+(4+(4/4))           34 = 44-(4/.4)             59 = (4!/.4)-(4/4)         84 = (√4*44)-4          \n",
      "  10 = 44/4.4                35 = 4!+(44/4)             60 = 44+(4*4)              85 = (4!+(4/.4))/.4     \n",
      "  11 = 44/√(4*4)             36 = 44-(4+4)              61 = (4/4)+(4!/.4)         86 = (44/.4)-4!         \n",
      "  12 = (4+44)/4              37 = 44-⌈√44⌉              62 = (4*(4*4))-√4          87 = (√4*44)-⌈.4⌉       \n",
      "  13 = 4!-(44/4)             38 = 44-(4!/4)             63 = ((4^4)-4)/4           88 = 44+44              \n",
      "  14 = 4+(4+(4!/4))          39 = 44-⌈4.4⌉              64 = (4+4)*(4+4)           89 = ⌈(√4*44.4)⌉        \n",
      "  15 = 4+(44/4)              40 = 44-√(4*4)             65 = (4+(4^4))/4           90 = (4*4!)-(4!/4)      \n",
      "  16 = .4*(44-4)             41 = ⌈44.4⌉-4              66 = √4+(4*(4*4))          91 = (4*4!)-⌈4.4⌉       \n",
      "  17 = (4/4)+(4*4)           42 = √4+(44-4)             67 = 4!+(44-⌈.4⌉)          92 = 4+(√4*44)          \n",
      "  18 = .4+(4*4.4)            43 = 44-(4/4)              68 = 4+(4*(4*4))           93 = ⌊((4.4^4)/4)⌋      \n",
      "  19 = ⌊(44*.44)⌋            44 = 4+(44-4)              69 = 4!+⌈44.4⌉             94 = (4*(4!-.4))-.4     \n",
      "  20 = 4*(4+(4/4))           45 = 44+(4/4)              70 = (4!+(4^4))/4          95 = (4*4!)-(4/4)       \n",
      "  21 = (4+4.4)/.4            46 = 4+(44-√4)             71 = (4!+4.4)/.4           96 = √4*(4+44)          \n",
      "  22 = √4*(44/4)             47 = 4+(44-⌈.4⌉)           72 = 4+(4!+44)             97 = (4/4)+(4*4!)       \n",
      "  23 = ((4*4!)-4)/4          48 = 4*(4+(4+4))           73 = 4+⌊(44/√.4)⌋          98 = .4+(4*(.4+4!))     \n",
      "  24 = 4+(4+(4*4))           49 = 4+⌈44.4⌉              74 = 4+((4+4!)/.4)         99 = ⌈(.4*(4^4))⌉-4     \n",
      "CPU times: user 55.4 s, sys: 44.6 ms, total: 55.5 s\n",
      "Wall time: 55.5 s\n"
     ]
    }
   ],
   "source": [
    "%time show((4, 4, 4, 4), limit=100, ops=OPS + \"⌊⌈\")"
   ]
  },
  {
   "cell_type": "markdown",
   "metadata": {
    "id": "4isEhtVGKEBC",
    "tags": []
   },
   "source": [
    "We could get up to 2892 with `show((4, 4, 4, 4), ops=OPS + \"⌊⌈\", nesting=3)`.\n",
    "\n",
    "# Even More Fives: Five 5s\n",
    "\n",
    "In the [xkcd forum](http://forums.xkcd.com/viewtopic.php?f=14&t=116813&start=280) they took up the problem of **five 5s** and got all the integers up to 298, using the \"[double factorial function](https://en.wikipedia.org/wiki/Double_factorial)\" and [π function](https://en.wikipedia.org/wiki/Prime-counting_function). We can get up to 171, using just the default operators, but with five digits it does take about seven minutes, whereas all the other puzzles with four or three digits (and without floor and ceiling) took less than a minute. I suspect you could go much further using floor and ceiling, but that computation would take even longer, so for now let's stick with our default set of operations:"
   ]
  },
  {
   "cell_type": "code",
   "execution_count": 39,
   "metadata": {
    "id": "4MHPG5L8KEBC",
    "outputId": "63bffec7-8b22-4bb2-cd44-6fd03f124ccf"
   },
   "outputs": [
    {
     "name": "stdout",
     "output_type": "stream",
     "text": [
      "Can make 0 to 171 with expressions((5, 5, 5, 5, 5), ops=\"+-*/^_√!.,\", permute=False). [14,809,921 table entries]\n",
      "\n",
      "   0 = 5*(55-55)             43 = 55-(5!/(5+5))         86 = (55/.5)-(5!/5)       129 = (5!-55.5)/.5       \n",
      "   1 = 5^(55-55)             44 = 55-(55/5)             87 = (555-5!)/5           130 = 5!+(55/5.5)        \n",
      "   2 = 55/(5*5.5)            45 = (5*5!)-555            88 = 5*(.55/(.5^5))       131 = (55+(5*5!))/5      \n",
      "   3 = .5*((55/5)-5)         46 = 55+((.5-5)/.5)        89 = 5!+((5!/5)-55)       132 = 5!+((5+55)/5)      \n",
      "   4 = 5-(55/55)             47 = 5+(5+(5+(.5^-5)))     90 = (55-(5+5))/.5        133 = (5+(5!*5.5))/5     \n",
      "   5 = 5+(55-55)             48 = 5!/(5*(5.5-5))        91 = (5*5)+(5!*.55)       134 = (5!/5)+(55/.5)     \n",
      "   6 = 5+(55/55)             49 = 55-(5+(5/5))          92 = 5+(55+(.5^-5))       135 = (5!+555)/5         \n",
      "   7 = ((5+55)/5)-5          50 = 55.5-5.5              93 = .5+(5!-(5*5.5))      136 = 5+(5!+(55/5))      \n",
      "   8 = .5*(5+(55/5))         51 = 55+((5/5)-5)          94 = 5!-((5/5)+(5*5))     137 = (5*(5*5.5))-.5     \n",
      "   9 = 5!-(555/5)            52 = 55-(.5+(5*.5))        95 = (55/.55)-5           138 = .5+(5*(5*5.5))     \n",
      "  10 = 5!-(55+55)            53 = 55-((5+5)/5)          96 = 5!+((5/5)-(5*5))     139 = ((5+(5/5))!/5)-5   \n",
      "  11 = 5*(55/(5*5))          54 = ((5*55)-5)/5          97 = 5!+((.5^-5)-55)      140 = .5*(5+(5*55))      \n",
      "  12 = (5/5)+(55/5)          55 = .5*(55+55)            98 = 5!-(55/(5*.5))       141 = 5!+((5+5.5)/.5)    \n",
      "  13 = (5+(5+55))/5          56 = (5+(5*55))/5          99 = (55-5.5)/.5          142 = 5!+(55/(5*.5))     \n",
      "  14 = (5*5)-(55/5)          57 = 55+((5+5)/5)         100 = (55/.5)-(5+5)        143 = ((5+(5/5))!-5)/5   \n",
      "  15 = 5+(55/5.5)            58 = (5*.5)+55.5          101 = (55.5-5)/.5          144 = ((55/5)-5)!/5      \n",
      "  16 = (55+(5*5))/5          59 = 5+(55-(5/5))         102 = (.5+(5*5))/(.5*.5)   145 = (5*(5+(5*5)))-5    \n",
      "  17 = 5+((5+55)/5)          60 = 5+(5+(55-5))         103 = 55+(5!/(5*.5))       146 = 5!+((5/5)+(5*5))   \n",
      "  18 = 5+((5!-55)/5)         61 = 5.5+55.5             104 = 5!-(5+(55/5))        147 = 5!+((5*5.5)-.5)    \n",
      "  19 = (5*5)-(5+(5/5))       62 = (55-(5!/5))/.5       105 = 55+(55-5)            148 = .5+(5!+(5*5.5))    \n",
      "  20 = 55/(5*.55)            63 = .5+(5*(5*(5*.5)))    106 = (555/5)-5            149 = (5!/5)+(5*(5*5))   \n",
      "  21 = 5+(5+(55/5))          64 = .5^(5-(55/5))        107 = 5!+((55-5!)/5)       150 = 5*(55-(5*5))       \n",
      "  22 = (55+55)/5             65 = 5+(5!-(5+55))        108 = (55-(5/5))/.5        151 = 5!+(55-(5!/5))     \n",
      "  23 = (5+(55/.5))/5         66 = 55+(55/5)            109 = (55/.5)-(5/5)        152 = 5!+((5.5-5)^-5)    \n",
      "  24 = (5-(55/55))!          67 = 55+(5!/(5+5))        110 = (555-5)/5            153 = 5!+(.5*(5!*.55))   \n",
      "  25 = 55-(5+(5*5))          68 = 5.5+(.5*(5+5!))      111 = 555/√(5*5)           154 = 5+(5+(5!+(5!/5)))  \n",
      "  26 = 5*(5+(5/(5*5)))       69 = 5+(.5^-(5+(5/5)))    112 = (5+555)/5            155 = 5+(5*(5+(5*5)))    \n",
      "  27 = 5+(55/(5*.5))         70 = 5+(5+(5+55))         113 = 5!-(5+((5+5)/5))     156 = (5!+(5!*5.5))/5    \n",
      "  28 = .5*(55+(5/5))         71 = 55+(.5/(.5^5))       114 = 5+(5!-(55/5))        157 = (.5^-5)+(5*(5*5))  \n",
      "  29 = 5+((5*5)-(5/5))       72 = (5+(5/5))!/(5+5)     115 = 5+(55+55)            158 = (55+(5!/5))/.5     \n",
      "  30 = 5*((55/5)-5)          73 = (5*5)+(5!/(5*.5))    116 = 5+(555/5)            159 = (5/(.5^5))-(5/5)   \n",
      "  31 = 5+((5/5)+(5*5))       74 = 55+((5!/5)-5)        117 = 5!-((5+(5+5))/5)     160 = (55+(5*5))/.5      \n",
      "  32 = (5+(55/5))/.5         75 = 55+((5*5)-5)         118 = 5!-(5!/(5+55))       161 = (5/5)+(5/(.5^5))   \n",
      "  33 = .55*(5+55)            76 = 5+(5+(5!*.55))       119 = 5!-(55/55)           162 = 5+(5+(5!+(.5^-5))) \n",
      "  34 = (5!+(55-5))/5         77 = 5+(5!*(.5+(.5/5)))   120 = 5!+(55-55)           163 = .5+(5*(.5+(.5^-5)))\n",
      "  35 = 5+(55-(5*5))          78 = 55+((5!-5)/5)        121 = 5!+(55/55)           164 = 5!+(.5*(5!-(.5^-5)))\n",
      "  36 = (5*5)+(55/5)          79 = (5!+(5*55))/5        122 = 5!+(5!/(5+55))       165 = 55+(55/.5)         \n",
      "  37 = 5+((5.5-5)^-5)        80 = 5*(5+(55/5))         123 = 5!+((5+(5+5))/5)     166 = 5!+((5!-5)/(5*.5)) \n",
      "  38 = 5+(.5*(5!*.55))       81 = 5+(.5*(5!+(.5^-5)))  124 = (5*(5*5))-(5/5)      167 = 5!+(((5!/.5)-5)/5) \n",
      "  39 = ((5*5)-5.5)/.5        82 = 55+((.5^-5)-5)       125 = 5*(.5*(55-5))        168 = (5!+(5+(5/5))!)/5  \n",
      "  40 = 55-(5+(5+5))          83 = (.5*5!)+((5!-5)/5)   126 = (5/5)+(5*(5*5))      169 = 5!+((5*5)+(5!/5))  \n",
      "  41 = (5!*.55)-(5*5)        84 = 5+(55+(5!/5))        127 = (5!*(5.5/5))-5       170 = 5!+((5*5)+(5*5))   \n",
      "  42 = (5+5.5)/(.5*.5)       85 = 5+(55+(5*5))         128 = (5-(5/5))/(.5^5)     171 = (5.5/(.5^5))-5     \n",
      "CPU times: user 8min 21s, sys: 938 ms, total: 8min 22s\n",
      "Wall time: 8min 22s\n"
     ]
    }
   ],
   "source": [
    "%time show((5, 5, 5, 5, 5))"
   ]
  },
  {
   "cell_type": "markdown",
   "metadata": {
    "id": "9HYipLxUKEBC"
   },
   "source": [
    "# f(n): Unmakeable from (1, ..., *n*)\n",
    "\n",
    "The facebook group \"actually good math problems\" posed the problem of determining the values of `f(n)`, which is defined to be the smallest positive integer that can not be made from, in our terms,  `expressions(range(n + 1), '+-*/^,', permute=True)`. Computing up to `f(5)` is fast, but `f(6)` requires hundreds of billions of combinations and 100 minutes to run; it would take some work to make it more efficient, or to move on to `f(7)`."
   ]
  },
  {
   "cell_type": "code",
   "execution_count": 40,
   "metadata": {},
   "outputs": [],
   "source": [
    "@cache\n",
    "def f(n, ops='+-*/^,') -> int:\n",
    "    \"\"\"The smallest integer inexpressible in digits 0 thru n.\"\"\"\n",
    "    return unmakeable(expressions(range(n + 1), ops, permute=True))"
   ]
  },
  {
   "cell_type": "code",
   "execution_count": 41,
   "metadata": {},
   "outputs": [
    {
     "name": "stdout",
     "output_type": "stream",
     "text": [
      "f(0) = 1\n",
      "f(1) = 2\n",
      "f(2) = 4\n",
      "f(3) = 25\n",
      "f(4) = 175\n",
      "f(5) = 1099\n",
      "f(6) = 9562\n",
      "CPU times: user 1h 38min 47s, sys: 4.47 s, total: 1h 38min 52s\n",
      "Wall time: 1h 42min 19s\n"
     ]
    }
   ],
   "source": [
    "%%time\n",
    "for n in range(7):\n",
    "    print(f'f({n}) = {f(n)}')"
   ]
  },
  {
   "cell_type": "markdown",
   "metadata": {
    "id": "9HYipLxUKEBC"
   },
   "source": [
    "# What's Next?\n",
    "\n",
    "One exercise would be adding even more operators, such as:\n",
    "\n",
    "- **Nth root**: `3√8` = 2\n",
    "- **Percent**: `50%` = 0.5\n",
    "- **Absolute value**: `|1-3|` = 2 (redundant if you have unary minus, but add it if you like it)\n",
    "- **Repeating decimal**: `.4...` = .44444444... = 4/9\n",
    "- **Booleans**: `1+(2<3)` = 2, because `(2<3)` is True, which is treated as 1.\n",
    "- **Double factorial**: `9!!` = 9 × 7 × 5 × 3 × 1 = 945; not the same as `(9!)!`\n",
    "- **Gamma function**: `Γ(n)` = (n − 1)! and works for non-integers\n",
    "- **Prime counting function**: `π(n)` = number of primes ≲ n; e.g. `π(5)` = 3\n",
    "- **Transcendental functions**: `log`, `sin` `cos`, `tan`, `arcsin`, ...  \n",
    "- **Degree symbol**: `180°` = π\n",
    "- **Log to base**: `log_10(100)` = 2\n",
    "- **Matrix notation**: with determinant symbol to get a number.\n",
    "- **Combinations and Permutations**: `6 C 2` = 15; `6 P 2` = 30\n",
    "\n",
    "Another approach would be to look around for related puzzles and solve them. What do you want to do?"
   ]
  }
 ],
 "metadata": {
  "colab": {
   "provenance": []
  },
  "kernelspec": {
   "display_name": "Python 3 (ipykernel)",
   "language": "python",
   "name": "python3"
  },
  "language_info": {
   "codemirror_mode": {
    "name": "ipython",
    "version": 3
   },
   "file_extension": ".py",
   "mimetype": "text/x-python",
   "name": "python",
   "nbconvert_exporter": "python",
   "pygments_lexer": "ipython3",
   "version": "3.8.15"
  }
 },
 "nbformat": 4,
 "nbformat_minor": 4
}
