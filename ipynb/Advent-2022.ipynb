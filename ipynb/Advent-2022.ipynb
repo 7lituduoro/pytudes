{
 "cells": [
  {
   "cell_type": "markdown",
   "metadata": {},
   "source": [
    "<div style=\"text-align: right\" align=\"right\"><i>Peter Norvig, December 2022</i></div>\n",
    "\n",
    "# Advent of Code 2022\n",
    "\n",
    "I'm doing Advent of Code (AoC) again this year.\n",
    "\n",
    "Happily for us all, [@GaryJGrady](https://twitter.com/GaryJGrady/) is drawing his cartoons again too! Below, Gary's  elf makes preparations on the eve of AoC:\n",
    "\n",
    "<img src=\"https://pbs.twimg.com/media/Fi0-6hLX0AAav2b?format=jpg&name=small\" width=400 title=\"Drawing by Gary Grady @GaryJGrady\">\n",
    "\n",
    "I prepared by loading up my [**AdventUtils.ipynb**](AdventUtils.ipynb) notebook from last year:"
   ]
  },
  {
   "cell_type": "code",
   "execution_count": 1,
   "metadata": {},
   "outputs": [
    {
     "ename": "NameError",
     "evalue": "name 'mapt' is not defined",
     "output_type": "error",
     "traceback": [
      "\u001b[0;31m---------------------------------------------------------------------------\u001b[0m",
      "\u001b[0;31mNameError\u001b[0m                                 Traceback (most recent call last)",
      "\u001b[0;32m~/Google Drive/Python/AdventUtils.ipynb\u001b[0m in \u001b[0;36m<module>\u001b[0;34m\u001b[0m\n\u001b[1;32m      1\u001b[0m \u001b[0;31m## TESTS\u001b[0m\u001b[0;34m\u001b[0m\u001b[0;34m\u001b[0m\u001b[0;34m\u001b[0m\u001b[0m\n\u001b[1;32m      2\u001b[0m \u001b[0;34m\u001b[0m\u001b[0m\n\u001b[0;32m----> 3\u001b[0;31m \u001b[0;32massert\u001b[0m \u001b[0mparse\u001b[0m\u001b[0;34m(\u001b[0m\u001b[0;34m\"hello\\nworld\"\u001b[0m\u001b[0;34m,\u001b[0m \u001b[0mshow\u001b[0m\u001b[0;34m=\u001b[0m\u001b[0;36m0\u001b[0m\u001b[0;34m)\u001b[0m \u001b[0;34m==\u001b[0m \u001b[0;34m(\u001b[0m\u001b[0;34m'hello'\u001b[0m\u001b[0;34m,\u001b[0m \u001b[0;34m'world'\u001b[0m\u001b[0;34m)\u001b[0m\u001b[0;34m\u001b[0m\u001b[0;34m\u001b[0m\u001b[0m\n\u001b[0m\u001b[1;32m      4\u001b[0m \u001b[0;32massert\u001b[0m \u001b[0mparse\u001b[0m\u001b[0;34m(\u001b[0m\u001b[0;34m\"123\\nabc7\"\u001b[0m\u001b[0;34m,\u001b[0m \u001b[0mdigits\u001b[0m\u001b[0;34m,\u001b[0m \u001b[0mshow\u001b[0m\u001b[0;34m=\u001b[0m\u001b[0;36m0\u001b[0m\u001b[0;34m)\u001b[0m \u001b[0;34m==\u001b[0m \u001b[0;34m(\u001b[0m\u001b[0;34m(\u001b[0m\u001b[0;36m1\u001b[0m\u001b[0;34m,\u001b[0m \u001b[0;36m2\u001b[0m\u001b[0;34m,\u001b[0m \u001b[0;36m3\u001b[0m\u001b[0;34m)\u001b[0m\u001b[0;34m,\u001b[0m \u001b[0;34m(\u001b[0m\u001b[0;36m7\u001b[0m\u001b[0;34m,\u001b[0m\u001b[0;34m)\u001b[0m\u001b[0;34m)\u001b[0m\u001b[0;34m\u001b[0m\u001b[0;34m\u001b[0m\u001b[0m\n\u001b[1;32m      5\u001b[0m \u001b[0;32massert\u001b[0m \u001b[0mtruncate\u001b[0m\u001b[0;34m(\u001b[0m\u001b[0;34m'hello world'\u001b[0m\u001b[0;34m,\u001b[0m \u001b[0;36m99\u001b[0m\u001b[0;34m)\u001b[0m \u001b[0;34m==\u001b[0m \u001b[0;34m'hello world'\u001b[0m\u001b[0;34m\u001b[0m\u001b[0;34m\u001b[0m\u001b[0m\n",
      "\u001b[0;32m~/Google Drive/Python/AdventUtils.ipynb\u001b[0m in \u001b[0;36mparse\u001b[0;34m(day_or_text, parser, sep, show)\u001b[0m\n\u001b[1;32m      8\u001b[0m     \u001b[0mtext\u001b[0m \u001b[0;34m=\u001b[0m \u001b[0mget_text\u001b[0m\u001b[0;34m(\u001b[0m\u001b[0mday_or_text\u001b[0m\u001b[0;34m)\u001b[0m\u001b[0;34m\u001b[0m\u001b[0;34m\u001b[0m\u001b[0m\n\u001b[1;32m      9\u001b[0m     \u001b[0mprint_parse_items\u001b[0m\u001b[0;34m(\u001b[0m\u001b[0;34m'Puzzle input'\u001b[0m\u001b[0;34m,\u001b[0m \u001b[0mtext\u001b[0m\u001b[0;34m.\u001b[0m\u001b[0msplitlines\u001b[0m\u001b[0;34m(\u001b[0m\u001b[0;34m)\u001b[0m\u001b[0;34m,\u001b[0m \u001b[0mshow\u001b[0m\u001b[0;34m,\u001b[0m \u001b[0;34m'line'\u001b[0m\u001b[0;34m)\u001b[0m\u001b[0;34m\u001b[0m\u001b[0;34m\u001b[0m\u001b[0m\n\u001b[0;32m---> 10\u001b[0;31m     \u001b[0mrecords\u001b[0m \u001b[0;34m=\u001b[0m \u001b[0mmapt\u001b[0m\u001b[0;34m(\u001b[0m\u001b[0mparser\u001b[0m\u001b[0;34m,\u001b[0m \u001b[0mtext\u001b[0m\u001b[0;34m.\u001b[0m\u001b[0mrstrip\u001b[0m\u001b[0;34m(\u001b[0m\u001b[0;34m)\u001b[0m\u001b[0;34m.\u001b[0m\u001b[0msplit\u001b[0m\u001b[0;34m(\u001b[0m\u001b[0msep\u001b[0m\u001b[0;34m)\u001b[0m\u001b[0;34m)\u001b[0m\u001b[0;34m\u001b[0m\u001b[0;34m\u001b[0m\u001b[0m\n\u001b[0m\u001b[1;32m     11\u001b[0m     \u001b[0;32mif\u001b[0m \u001b[0mparser\u001b[0m \u001b[0;34m!=\u001b[0m \u001b[0mstr\u001b[0m\u001b[0;34m:\u001b[0m\u001b[0;34m\u001b[0m\u001b[0;34m\u001b[0m\u001b[0m\n\u001b[1;32m     12\u001b[0m         \u001b[0mprint_parse_items\u001b[0m\u001b[0;34m(\u001b[0m\u001b[0;34m'Parsed representation'\u001b[0m\u001b[0;34m,\u001b[0m \u001b[0mrecords\u001b[0m\u001b[0;34m,\u001b[0m \u001b[0mshow\u001b[0m\u001b[0;34m,\u001b[0m \u001b[0;34mf'{type(records[0]).__name__}'\u001b[0m\u001b[0;34m)\u001b[0m\u001b[0;34m\u001b[0m\u001b[0;34m\u001b[0m\u001b[0m\n",
      "\u001b[0;31mNameError\u001b[0m: name 'mapt' is not defined"
     ]
    }
   ],
   "source": [
    "%run AdventUtils.ipynb"
   ]
  },
  {
   "cell_type": "markdown",
   "metadata": {},
   "source": [
    "You might want to [take a look](AdventUtils.ipynb) to see how the `parse` and `answer` functions work, since they will be used for each day's puzzles. You'll really have to read [each day's puzzle description](https://adventofcode.com/2022/day/1). Each solution will have three parts:\n",
    "- **Reading the Input**, e.g. for Day 1, `in1 = parse(1, ints, sep=paragraph)`. The function `parse` splits the input file for day 1 into records (by default each line is a record, but the `sep` keyword argument can be used to split by paragraph or other separators), and then applies a function (here `ints`, which returns a tuple of all integers in a string) to each record. `parse` prints the first few lines of the input file and the first few records of the parsed result.\n",
    "- **Solving Part One**, e.g. `answer(1.1, ..., lambda: ...)`. The function `answer` takes three arguments:\n",
    "  1. The puzzle we are answering, in the form *day*.*part*\n",
    "  2. The correct answer as verified by AoC (recorded here so that if I modify and re-run the notebook, I can verify that it still works), \n",
    "  3. A function to call to compute the answer. (It is passed as a function so we can time how long it takes to run.)\n",
    "- **Solving Part Two**, e.g. `answer(1.2, ..., lambda: ...)`.\n",
    "\n"
   ]
  },
  {
   "cell_type": "markdown",
   "metadata": {},
   "source": [
    "# [Day 1](https://adventofcode.com/2022/day/1): Calorie Counting\n",
    "\n",
    "There is a complex backstory involving food for the elves and calories, but computationally all we have to know is that the input is a sequence of paragraphs, where each paragraph contains some integers. My `parse` function knows how to handle that:"
   ]
  },
  {
   "cell_type": "code",
   "execution_count": 2,
   "metadata": {},
   "outputs": [
    {
     "name": "stdout",
     "output_type": "stream",
     "text": [
      "────────────────────────────────────────────────────────────────────────────────────────────────────\n",
      "Puzzle input ➜ 2275 lines:\n",
      "────────────────────────────────────────────────────────────────────────────────────────────────────\n",
      "15931\n",
      "8782\n",
      "16940\n",
      "14614\n",
      "\n",
      "4829\n",
      "...\n"
     ]
    },
    {
     "ename": "NameError",
     "evalue": "name 'mapt' is not defined",
     "output_type": "error",
     "traceback": [
      "\u001b[0;31m---------------------------------------------------------------------------\u001b[0m",
      "\u001b[0;31mNameError\u001b[0m                                 Traceback (most recent call last)",
      "\u001b[0;32m<ipython-input-2-dd26501d74ae>\u001b[0m in \u001b[0;36m<module>\u001b[0;34m\u001b[0m\n\u001b[0;32m----> 1\u001b[0;31m \u001b[0min1\u001b[0m \u001b[0;34m=\u001b[0m \u001b[0mparse\u001b[0m\u001b[0;34m(\u001b[0m\u001b[0;36m1\u001b[0m\u001b[0;34m,\u001b[0m \u001b[0mints\u001b[0m\u001b[0;34m,\u001b[0m \u001b[0mparagraphs\u001b[0m\u001b[0;34m)\u001b[0m\u001b[0;34m\u001b[0m\u001b[0;34m\u001b[0m\u001b[0m\n\u001b[0m",
      "\u001b[0;32m<ipython-input-1-8de51a529160>\u001b[0m in \u001b[0;36mparse\u001b[0;34m(day_or_text, parser, sep, show)\u001b[0m\n\u001b[1;32m      8\u001b[0m     \u001b[0mtext\u001b[0m \u001b[0;34m=\u001b[0m \u001b[0mget_text\u001b[0m\u001b[0;34m(\u001b[0m\u001b[0mday_or_text\u001b[0m\u001b[0;34m)\u001b[0m\u001b[0;34m\u001b[0m\u001b[0;34m\u001b[0m\u001b[0m\n\u001b[1;32m      9\u001b[0m     \u001b[0mprint_parse_items\u001b[0m\u001b[0;34m(\u001b[0m\u001b[0;34m'Puzzle input'\u001b[0m\u001b[0;34m,\u001b[0m \u001b[0mtext\u001b[0m\u001b[0;34m.\u001b[0m\u001b[0msplitlines\u001b[0m\u001b[0;34m(\u001b[0m\u001b[0;34m)\u001b[0m\u001b[0;34m,\u001b[0m \u001b[0mshow\u001b[0m\u001b[0;34m,\u001b[0m \u001b[0;34m'line'\u001b[0m\u001b[0;34m)\u001b[0m\u001b[0;34m\u001b[0m\u001b[0;34m\u001b[0m\u001b[0m\n\u001b[0;32m---> 10\u001b[0;31m     \u001b[0mrecords\u001b[0m \u001b[0;34m=\u001b[0m \u001b[0mmapt\u001b[0m\u001b[0;34m(\u001b[0m\u001b[0mparser\u001b[0m\u001b[0;34m,\u001b[0m \u001b[0mtext\u001b[0m\u001b[0;34m.\u001b[0m\u001b[0mrstrip\u001b[0m\u001b[0;34m(\u001b[0m\u001b[0;34m)\u001b[0m\u001b[0;34m.\u001b[0m\u001b[0msplit\u001b[0m\u001b[0;34m(\u001b[0m\u001b[0msep\u001b[0m\u001b[0;34m)\u001b[0m\u001b[0;34m)\u001b[0m\u001b[0;34m\u001b[0m\u001b[0;34m\u001b[0m\u001b[0m\n\u001b[0m\u001b[1;32m     11\u001b[0m     \u001b[0;32mif\u001b[0m \u001b[0mparser\u001b[0m \u001b[0;34m!=\u001b[0m \u001b[0mstr\u001b[0m\u001b[0;34m:\u001b[0m\u001b[0;34m\u001b[0m\u001b[0;34m\u001b[0m\u001b[0m\n\u001b[1;32m     12\u001b[0m         \u001b[0mprint_parse_items\u001b[0m\u001b[0;34m(\u001b[0m\u001b[0;34m'Parsed representation'\u001b[0m\u001b[0;34m,\u001b[0m \u001b[0mrecords\u001b[0m\u001b[0;34m,\u001b[0m \u001b[0mshow\u001b[0m\u001b[0;34m,\u001b[0m \u001b[0;34mf'{type(records[0]).__name__}'\u001b[0m\u001b[0;34m)\u001b[0m\u001b[0;34m\u001b[0m\u001b[0;34m\u001b[0m\u001b[0m\n",
      "\u001b[0;31mNameError\u001b[0m: name 'mapt' is not defined"
     ]
    }
   ],
   "source": [
    "in1 = parse(1, ints, paragraphs)"
   ]
  },
  {
   "cell_type": "markdown",
   "metadata": {},
   "source": [
    "#### Part 1: Find the Elf carrying the most Calories. How many total Calories is that Elf carrying?\n",
    "\n",
    "Find the maximum sum among all the tuples:"
   ]
  },
  {
   "cell_type": "code",
   "execution_count": null,
   "metadata": {},
   "outputs": [],
   "source": [
    "answer(1.1, 70116, lambda: max(sum(elf) for elf in in1))"
   ]
  },
  {
   "cell_type": "markdown",
   "metadata": {},
   "source": [
    "#### Part 2: Find the top three Elves carrying the most Calories. How many Calories are those Elves carrying in total?\n",
    "\n",
    "Find the sum of the 3 biggest sums:"
   ]
  },
  {
   "cell_type": "code",
   "execution_count": null,
   "metadata": {},
   "outputs": [],
   "source": [
    "answer(1.2, 206582, lambda: sum(sorted(sum(elf) for elf in in1)[-3:]))"
   ]
  },
  {
   "cell_type": "markdown",
   "metadata": {},
   "source": [
    "To be clear, here is exactly what I did to solve the day's puzzle:\n",
    "\n",
    "1. Typed and executed `in1 = parse(1, ints, paragraphs)` in a Jupyter Notebook cell, and examined the output. Looked good to me.\n",
    "2. Solved Part 1: typed and executed `max(sum(elf) for elf in in1)` in a cell, and saw the output, `70116`.\n",
    "3. Copy/pasted `70116` into the [AoC Day 1](https://adventofcode.com/2022/day/1) input box and submitted it.\n",
    "4. Verified that AoC agreed the answer was correct. (On some other days, the first such submission was not correct.)\n",
    "5. Typed and executed `answer(1.1, 70116, lambda: max(sum(elf) for elf in in1))` in a cell, for when I re-run the notebook.\n",
    "6. Repeated steps 2–5 for Part 2."
   ]
  },
  {
   "cell_type": "markdown",
   "metadata": {},
   "source": [
    "<img src=\"https://pbs.twimg.com/media/Fi6Ryc0XEBIHBXq?format=jpg&name=small\"  title=\"Drawing by Gary Grady @GaryJGrady\" width=400>"
   ]
  },
  {
   "cell_type": "markdown",
   "metadata": {},
   "source": [
    "# [Day 2](https://adventofcode.com/2022/day/2): Rock Paper Scissors \n",
    "\n",
    "The input is two one-letter strings per line indicating the two player's plays:"
   ]
  },
  {
   "cell_type": "code",
   "execution_count": null,
   "metadata": {},
   "outputs": [],
   "source": [
    "in2 = parse(2, atoms)"
   ]
  },
  {
   "cell_type": "markdown",
   "metadata": {},
   "source": [
    "#### Part 1: What would your total score be if everything goes exactly according to your strategy guide?\n",
    "\n",
    "One confusing aspect: there are multiple encodings. Rock/Paper/Scissors corresponds to A/B/C, and X/Y/Z, and scores of 1/2/3. I decided the least confusing approach would be to translate everything to 1/2/3:"
   ]
  },
  {
   "cell_type": "code",
   "execution_count": null,
   "metadata": {},
   "outputs": [],
   "source": [
    "RPS = Rock, Paper, Scissors = 1, 2, 3\n",
    "rps_winner = {Rock: Paper, Paper: Scissors, Scissors: Rock}\n",
    "\n",
    "def rps_score(you: int, me: int) -> int:\n",
    "    \"\"\"My score for a round is my play plus 3 for draw and 6 for win.\"\"\"\n",
    "    return me + (6 if rps_winner[you] == me else 3 if me == you else 0)\n",
    "    \n",
    "answer(2.1, 13268, lambda: sum(rps_score('.ABC'.index(a), '.XYZ'.index(x)) for a, x in in2))"
   ]
  },
  {
   "cell_type": "markdown",
   "metadata": {},
   "source": [
    "#### Part 2: What would your total score be if everything goes exactly according to your strategy guide?\n",
    "\n",
    "In Part 2 the X/Y/Z does not mean that I should play rock/paper/scissors; rather it means that I should lose/draw/win:"
   ]
  },
  {
   "cell_type": "code",
   "execution_count": null,
   "metadata": {},
   "outputs": [],
   "source": [
    "rps_loser = {rps_winner[x]: x for x in RPS} # Invert the dict\n",
    "\n",
    "def rps_score2(you: int, x: Char) -> int:\n",
    "    \"\"\"First letter means A=Rock/B=Paper/C=Scissors; second means X=lose/Y=draw/Z=win.\"\"\"\n",
    "    me = rps_loser[you] if x == 'X' else you if x == 'Y' else rps_winner[you]\n",
    "    return rps_score(you, me)\n",
    "\n",
    "answer(2.2, 15508, lambda: sum(rps_score2('.ABC'.index(a), x) for a, x in in2))"
   ]
  },
  {
   "cell_type": "markdown",
   "metadata": {},
   "source": [
    "# [Day 3](https://adventofcode.com/2022/day/3): Rucksack Reorganization\n",
    "\n",
    "Each line of input is just a string of letters; the simplest input to parse:"
   ]
  },
  {
   "cell_type": "code",
   "execution_count": null,
   "metadata": {},
   "outputs": [],
   "source": [
    "in3 = parse(3)"
   ]
  },
  {
   "cell_type": "markdown",
   "metadata": {},
   "source": [
    "#### Part 1: Find the item type that appears in both compartments of each rucksack. What is the sum of the priorities of those item types?\n",
    "\n",
    "The two \"compartments\" are the two halves of the string. Find the common item by set intersection. The function `the` makes sure there is exactly one letter in the interesection:"
   ]
  },
  {
   "cell_type": "code",
   "execution_count": null,
   "metadata": {},
   "outputs": [],
   "source": [
    "def common_item(rucksack: str) -> Char:\n",
    "    \"\"\"The one letter that appears in both left and right halves of the input string.\"\"\"\n",
    "    left, right = split_at(rucksack, len(rucksack) // 2)\n",
    "    return the(set(left) & set(right))\n",
    "\n",
    "priority = {c: i + 1 for i, c in enumerate(string.ascii_letters)}\n",
    "\n",
    "answer(3.1, 8401, lambda: sum(priority[common_item(rucksack)] for rucksack in in3))"
   ]
  },
  {
   "cell_type": "markdown",
   "metadata": {},
   "source": [
    "#### Part 2: Find the item type that corresponds to the badges of each three-Elf group. What is the sum of the priorities of those item types?\n",
    "\n",
    "My utility function `batched(in3, 3)` (from the [itertools recipes](https://docs.python.org/3/library/itertools.html#itertools-recipes) groups a sequence into subsequences of length 3; then we find the intersection and get its priority:"
   ]
  },
  {
   "cell_type": "code",
   "execution_count": null,
   "metadata": {},
   "outputs": [],
   "source": [
    "answer(3.2, 2641, lambda: sum(priority[the(intersection(group))] for group in batched(in3, 3)))"
   ]
  },
  {
   "cell_type": "markdown",
   "metadata": {},
   "source": [
    "<img src=\"https://pbs.twimg.com/media/FjE7eyPWAAAy2be?format=jpg&name=small\"  title=\"Drawing by Gary Grady @GaryJGrady\" width=500>"
   ]
  },
  {
   "cell_type": "markdown",
   "metadata": {},
   "source": [
    "# [Day 4](https://adventofcode.com/2022/day/4): Camp Cleanup\n",
    "\n",
    "Each input line corresponds to two ranges of integers, which I'll represent with a 4-tuple of endpoints:"
   ]
  },
  {
   "cell_type": "code",
   "execution_count": null,
   "metadata": {},
   "outputs": [],
   "source": [
    "in4 = parse(4, positive_ints)"
   ]
  },
  {
   "cell_type": "markdown",
   "metadata": {},
   "source": [
    "#### Part 1: In how many assignment pairs does one range fully contain the other?\n",
    "\n",
    "I could have turned each range into a set of integers and compared the sets, but I was concerned that a huge range would mean a huge set, so instead I directly compare the endpoints of the ranges:"
   ]
  },
  {
   "cell_type": "code",
   "execution_count": null,
   "metadata": {},
   "outputs": [],
   "source": [
    "def fully_contained(lo, hi, LO, HI) -> bool:\n",
    "    \"\"\"Is the range `lo-hi` fully contained in `LO-HI`, or vice-veresa?\"\"\"\n",
    "    return (lo <= LO <= HI <= hi) or (LO <= lo <= hi <= HI)\n",
    "\n",
    "answer(4.1, 477, lambda: quantify(fully_contained(*line) for line in in4))"
   ]
  },
  {
   "cell_type": "markdown",
   "metadata": {},
   "source": [
    "#### Part 2: In how many assignment pairs do the ranges overlap?"
   ]
  },
  {
   "cell_type": "code",
   "execution_count": null,
   "metadata": {},
   "outputs": [],
   "source": [
    "def overlaps(lo, hi, LO, HI) -> bool:\n",
    "    \"\"\"Do the two ranges have any overlap?\"\"\"\n",
    "    return (lo <= LO <= hi) or (LO <= lo <= HI)\n",
    "\n",
    "answer(4.2, 830, lambda: quantify(overlaps(*line) for line in in4))"
   ]
  },
  {
   "cell_type": "markdown",
   "metadata": {},
   "source": [
    "# [Day 5](https://adventofcode.com/2022/day/5): Supply Stacks\n",
    "\n",
    "My `parse` function is primarily intended for the case where every record is parsed the same way. In today's puzzle, the input has two sections (in two paragraphs), each of which should be parsed differently. The function `parse_sections` is designed to handle this case. It takes as input a list of parsers (in this case two of them), which will be applied in order to parse the corresponding section:\n",
    "- The first section is a **diagram**, which is parsed by picking out the characters in each stack; that is, in columns 1 and every 4th column after. \n",
    "- The second section is a list of **moves**, which can be parsed with `ints` to get a 3-tuple of numbers. \n"
   ]
  },
  {
   "cell_type": "code",
   "execution_count": null,
   "metadata": {},
   "outputs": [],
   "source": [
    "in5 = parse(5, parse_sections([lambda line: line[1::4], ints]), sep=paragraphs, show=12)"
   ]
  },
  {
   "cell_type": "markdown",
   "metadata": {},
   "source": [
    "#### Part 1: After the rearrangement procedure completes, what crate ends up on top of each stack?\n",
    "\n",
    "Rearranging means repeatedly popping a crate from one stack and putting it on top of another stack, according to the move commands:"
   ]
  },
  {
   "cell_type": "code",
   "execution_count": null,
   "metadata": {},
   "outputs": [],
   "source": [
    "def rearrange(diagram, moves) -> str:\n",
    "    \"\"\"Given a diagram of crates in stacks, apply move commands.\n",
    "    Then return a string of the crates that are on top of each stack.\"\"\"\n",
    "    stacks = {int(row[-1]): [L for L in reversed(row[:-1]) if L != ' '] for row in T(diagram)}\n",
    "    for (n, source, dest) in moves:\n",
    "        for _ in range(n):\n",
    "            stacks[dest].append(stacks[source].pop())\n",
    "    return cat(stacks[i].pop() for i in stacks)\n",
    "\n",
    "answer(5.1, 'SHQWSRBDL', lambda: rearrange(*in5))"
   ]
  },
  {
   "cell_type": "markdown",
   "metadata": {},
   "source": [
    "#### Part 2: After the rearrangement procedure completes, what crate ends up on top of each stack?\n",
    "\n",
    "In part 1, when *n* crates were moved with a model 9000 crane, it was done one-at-a-time, so the stack ends up reversed at its destination. In part 2 we have the more advanced model 9001 crane, which can lift all *n* crates at once, and place them down without reversing them. I'll rewrite `rearrange` to handle either way. I'll rerun part 1 to make sure the new function definition is backwards compatible."
   ]
  },
  {
   "cell_type": "code",
   "execution_count": null,
   "metadata": {},
   "outputs": [],
   "source": [
    "def rearrange(diagram, moves, model=9000) -> str:\n",
    "    stacks = {int(row[-1]): [L for L in row[-1::-1] if L != ' '] for row in T(diagram)}\n",
    "    for (n, source, dest) in moves:\n",
    "        stacks[source], crates = split_at(stacks[source], -n)\n",
    "        if model == 9000: crates = crates[::-1]\n",
    "        stacks[dest].extend(crates)\n",
    "    return cat(stacks[i].pop() for i in stacks)\n",
    "\n",
    "answer(5.1, 'SHQWSRBDL', lambda: rearrange(*in5))\n",
    "answer(5.2, 'CDTQZHBRS', lambda: rearrange(*in5, model=9001))"
   ]
  },
  {
   "cell_type": "markdown",
   "metadata": {},
   "source": [
    "# [Day 6](https://adventofcode.com/2022/day/6): Tuning Trouble\n",
    "\n",
    "The input is a single line of characters:"
   ]
  },
  {
   "cell_type": "code",
   "execution_count": null,
   "metadata": {},
   "outputs": [],
   "source": [
    "in6 = parse(6)[0]"
   ]
  },
  {
   "cell_type": "markdown",
   "metadata": {},
   "source": [
    "#### Part 1: How many characters need to be processed before the first start-of-packet marker is detected?\n",
    "\n",
    "A start-of-packet marker is when there are *n* distinct characters in a row. I initially made a mistake: I read the instructions hastily and assumed they were asking for the *start* of the start-of-packet marker, not the *end* of it. When AoC told me I had the wrong answer, I went back and figured it out."
   ]
  },
  {
   "cell_type": "code",
   "execution_count": null,
   "metadata": {},
   "outputs": [],
   "source": [
    "def first_marker(stream, n=4) -> int:\n",
    "    \"\"\"The number of characters read before the first start-of-packet marker is detected.\"\"\"\n",
    "    return first(i + n for i in range(len(stream)) if len(set(stream[i:i+n])) == n)\n",
    "\n",
    "answer(6.1, 1987, lambda: first_marker(in6, 4))"
   ]
  },
  {
   "cell_type": "markdown",
   "metadata": {},
   "source": [
    "#### Part 2: How many characters need to be processed before the first start-of-message marker is detected?\n",
    "\n",
    "Now we're looking for 14 distinct characters, not just 4."
   ]
  },
  {
   "cell_type": "code",
   "execution_count": null,
   "metadata": {},
   "outputs": [],
   "source": [
    "answer(6.2, 3059, lambda: first_marker(in6, 14))"
   ]
  },
  {
   "cell_type": "markdown",
   "metadata": {},
   "source": [
    "<img src=\"https://pbs.twimg.com/media/FjUoJ0TXEBIHU46?format=jpg&name=small\"  title=\"Drawing by Gary Grady @GaryJGrady\"  width=400>"
   ]
  },
  {
   "cell_type": "markdown",
   "metadata": {},
   "source": [
    "# [Day 7](https://adventofcode.com/2022/day/7): No Space Left On Device \n",
    "\n",
    "The input is a sequence of shell commands; I'll make `parse` split each line into words:"
   ]
  },
  {
   "cell_type": "code",
   "execution_count": null,
   "metadata": {},
   "outputs": [],
   "source": [
    "in7 = parse(7, str.split)"
   ]
  },
  {
   "cell_type": "markdown",
   "metadata": {},
   "source": [
    "#### Part 1: Find all of the directories with a total size of at most 100000. What is the sum of the total sizes of those directories?\n",
    "\n",
    "I'll keep track of a stack of directories (as Unix/Linux does with the `pushd`, `popd`, and `dirs` commands). All I need to track is `cd` commands (which change the `dirs` stack) and file size listings. I can ignore `ls` command lines and \"`dir` *name*\" output. The `browse` command examines the lines of the transcript and returns a Counter of `{directory_name: total_size}`. From that Counter I can sum the directory sizes that are under 100,000. "
   ]
  },
  {
   "cell_type": "code",
   "execution_count": null,
   "metadata": {},
   "outputs": [],
   "source": [
    "def browse(transcript) -> Counter:\n",
    "    \"\"\"Return a Counter of {directory_name: total_size}, as revealed by the transcript of commands and output.\"\"\"\n",
    "    dirs = ['/']      # A stack of directories\n",
    "    sizes = Counter() # Mapping of directory name to total size\n",
    "    for tokens in transcript:\n",
    "        if tokens[0].isnumeric():\n",
    "            for dir in dirs: # All parent directories get credit for this file's size\n",
    "                sizes[dir] += int(tokens[0])\n",
    "        elif tokens[0] == '$' and tokens[1] == 'cd':\n",
    "            dir = tokens[2]\n",
    "            if dir == '/':\n",
    "                dirs = ['/']\n",
    "            elif dir == '..':\n",
    "                dirs.pop()\n",
    "            else:\n",
    "                dirs.append(dirs[-1] + dir + '/')\n",
    "    return sizes   \n",
    "\n",
    "answer(7.1, 1232307, lambda: sum(v for v in browse(in7).values() if v <= 100_000))"
   ]
  },
  {
   "cell_type": "markdown",
   "metadata": {},
   "source": [
    "#### Part 2: Find the smallest directory that, if deleted, would free up enough space on the filesystem to run the update. What is the total size of that directory?"
   ]
  },
  {
   "cell_type": "code",
   "execution_count": null,
   "metadata": {},
   "outputs": [],
   "source": [
    "def free_up(transcript, available=70_000_000, needed=30_000_000) -> int:\n",
    "    \"\"\"What is the size of the smallest directory you can delete to free up enough space?\"\"\"\n",
    "    sizes = browse(transcript)\n",
    "    unused = available - sizes['/']\n",
    "    return min(sizes[d] for d in sizes if unused + sizes[d] >= needed)\n",
    "\n",
    "answer(7.2, 7268994,  lambda: free_up(in7))"
   ]
  },
  {
   "cell_type": "markdown",
   "metadata": {},
   "source": [
    "# [Day 8](https://adventofcode.com/2022/day/8): Treetop Tree House\n",
    "\n",
    "The input is a grid of heights of trees; my `Grid` class handles this well:"
   ]
  },
  {
   "cell_type": "code",
   "execution_count": null,
   "metadata": {},
   "outputs": [],
   "source": [
    "in8 = Grid(parse(8, digits))"
   ]
  },
  {
   "cell_type": "markdown",
   "metadata": {},
   "source": [
    "#### Part 1: Consider your map; how many trees are visible from outside the grid?\n",
    "\n",
    "In the worst case this is *O*(*n*<sup>2</sup>), so I don't feel too bad about taking the brute force approach of considering every location in the grid, and checking if for **any** direction, **all** the points in that direction have a shorter tree:"
   ]
  },
  {
   "cell_type": "code",
   "execution_count": null,
   "metadata": {},
   "outputs": [],
   "source": [
    "def visible_from_outside(grid) -> int:\n",
    "    \"\"\"How many points on grid are visible from the outside?\n",
    "    Points such that, for some direction, all the points in that direction have a shorter tree.\"\"\"\n",
    "    return quantify(any(all(grid[p] < grid[loc] for p in go_in_direction(loc, dir, grid))\n",
    "                        for dir in directions4)\n",
    "                    for loc in grid)\n",
    "\n",
    "def go_in_direction(start, direction, grid) -> Iterable[Point]:\n",
    "    \"\"\"All the points in grid that are beyond `start` in `direction`.\"\"\"\n",
    "    (x, y), (dx, dy) = start, direction\n",
    "    while True:\n",
    "        (x, y) = (x + dx, y + dy)\n",
    "        if (x, y) not in grid:\n",
    "            return\n",
    "        yield (x, y)\n",
    "\n",
    "answer(8.1, 1829, lambda: visible_from_outside(in8))"
   ]
  },
  {
   "cell_type": "markdown",
   "metadata": {},
   "source": [
    "#### Part 2: Consider each tree on your map. What is the highest scenic score possible for any tree?\n",
    "\n",
    "If I had chosen better abstraction for Part 1, perhaps I could re-use some \"visible\" function. As it is, I can only re-use `go_in_direction`:"
   ]
  },
  {
   "cell_type": "code",
   "execution_count": null,
   "metadata": {},
   "outputs": [],
   "source": [
    "def scenic_score(loc, grid) -> int:\n",
    "    \"\"\"The product of the number of trees you can see in each of the 4 directions.\"\"\"\n",
    "    return prod(viewing_distance(loc, direction, grid) for direction in directions4)\n",
    "\n",
    "def viewing_distance(loc, direction, grid):\n",
    "    \"\"\"How many trees can you see from this location in this direction?\"\"\"\n",
    "    seen = 0\n",
    "    for seen, p in enumerate(go_in_direction(loc, direction, grid), 1):\n",
    "        if grid[p] >= grid[loc]:\n",
    "            break\n",
    "    return seen\n",
    "\n",
    "answer(8.2, 291840, lambda: max(scenic_score(loc, in8) for loc in in8))"
   ]
  },
  {
   "cell_type": "markdown",
   "metadata": {},
   "source": [
    "#### Part 3: Exploration"
   ]
  },
  {
   "cell_type": "markdown",
   "metadata": {},
   "source": [
    "*Note*: Up to now, I haven't worried about the efficiency of the code, since every day's code ran in about a millisecond. But today took 50 times longer, so I'm starting to get nervous. Maybe in the coming days I will need to be more aware of efficiency issues.\n",
    "\n",
    "I can plot the trees. Darker green means taller, and the red dot is the most scenic spot. We see that the taller growth is towards the center of the forest:"
   ]
  },
  {
   "cell_type": "code",
   "execution_count": null,
   "metadata": {},
   "outputs": [],
   "source": [
    "square_plot([max(in8, key=lambda p: scenic_score(p, in8))], 'ro',\n",
    "            extra=lambda: plt.scatter(*T(in8), c=list(in8.values()), \n",
    "                                      cmap=plt.get_cmap('YlGn')))"
   ]
  },
  {
   "cell_type": "markdown",
   "metadata": {},
   "source": [
    "# [Day 9](https://adventofcode.com/2022/day/9): Rope Bridge\n",
    "\n",
    "The input consists of command lines, which we can parse as one tuple of two atoms (a command name and an integer) per line:"
   ]
  },
  {
   "cell_type": "code",
   "execution_count": null,
   "metadata": {},
   "outputs": [],
   "source": [
    "in9 = parse(9, atoms)"
   ]
  },
  {
   "cell_type": "markdown",
   "metadata": {},
   "source": [
    "These are motion commands for the head of a rope; the tail (one knot away) must follow, so that it is always on or adjacent to the head's location.\n",
    "\n",
    "#### Part 1: Simulate your complete hypothetical series of motions. How many positions does the tail of the rope visit at least once?\n",
    "\n",
    "The rules for how the tail moves are a bit tricky, but otherwise the control flow is easy. I'll return the set of visited squares, in case I need it in part 2, but for this part I just need the size of the set. I provide for an optional starting position; this is arbitrary, but it makes it eeasier to follow the example in the puzzle description if I start at the same place they start at."
   ]
  },
  {
   "cell_type": "code",
   "execution_count": null,
   "metadata": {},
   "outputs": [],
   "source": [
    "def move_rope(motions, start=(0, 4)) -> Set[Point]:\n",
    "    \"\"\"Move rope according to `motions`; return set of points visited by tail.\"\"\"\n",
    "    deltas = dict(R=East, L=West, U=North, D=South)\n",
    "    H = T = start # Head and Tail oof the rope\n",
    "    visited = {start}\n",
    "    for (op, n) in motions:\n",
    "        for _ in range(n):\n",
    "            H = add(H, deltas[op])\n",
    "            T = move_tail(T, H)\n",
    "            visited.add(T)\n",
    "    return visited\n",
    "\n",
    "def move_tail(T: Point, H: Point) -> Point:\n",
    "    \"\"\"Move tail to be close to head if it is not already adjacent.\"\"\"\n",
    "    dx, dy = sub(H, T)\n",
    "    if max(abs(dx), abs(dy)) > 1:\n",
    "        if dx: # Different column\n",
    "            T = add(T, (sign(dx), 0))\n",
    "        if dy: # Different row\n",
    "            T = add(T, (0, sign(dy)))\n",
    "    return T\n",
    "            \n",
    "answer(9.1, 6236, lambda: len(move_rope(in9, (0, 4))))"
   ]
  },
  {
   "cell_type": "markdown",
   "metadata": {},
   "source": [
    "#### Part 2: Simulate your complete series of motions on a larger rope with ten knots. How many positions does the tail of the rope visit at least once?\n",
    "\n",
    "I'll re-write `move_rope` to take an optional argument giving the number of knots in the rope. Then instead of just one `move_tail` per loop, I'll move all the non-head knots in the rope, each one to follow the one immediately in front of it.  I'll show that the re-write is backwards compatible by repeating the two-knot solution."
   ]
  },
  {
   "cell_type": "code",
   "execution_count": null,
   "metadata": {},
   "outputs": [],
   "source": [
    "def move_rope(motions, start=(0, 4), knots=2) -> Set[Point]:\n",
    "    deltas = dict(R=East, L=West, U=North, D=South)\n",
    "    rope = [start] * knots\n",
    "    visited = {start}\n",
    "    for (op, n) in motions:\n",
    "        for _ in range(n):\n",
    "            rope[0] = add(rope[0], deltas[op])\n",
    "            for k in range(1, knots):\n",
    "                rope[k] = move_tail(rope[k], rope[k - 1])\n",
    "            visited.add(rope[-1])\n",
    "    return visited\n",
    "\n",
    "answer(9.1, 6236, lambda: len(move_rope(in9, (0, 4))))\n",
    "answer(9.2, 2449, lambda: len(move_rope(in9, (0, 4), knots=10)))"
   ]
  },
  {
   "cell_type": "markdown",
   "metadata": {},
   "source": [
    "#### Part 3: Exploration\n",
    "\n",
    "Because I chose to return the set of visited points, I can plot the tail of the rope (for various size ropes):"
   ]
  },
  {
   "cell_type": "code",
   "execution_count": null,
   "metadata": {},
   "outputs": [],
   "source": [
    "square_plot(move_rope(in9, knots=2), '.');"
   ]
  },
  {
   "cell_type": "code",
   "execution_count": null,
   "metadata": {},
   "outputs": [],
   "source": [
    "square_plot(move_rope(in9, knots=10), '.');"
   ]
  },
  {
   "cell_type": "code",
   "execution_count": null,
   "metadata": {},
   "outputs": [],
   "source": [
    "square_plot(move_rope(in9, knots=20), '.');"
   ]
  },
  {
   "cell_type": "markdown",
   "metadata": {},
   "source": [
    "<img src=\"https://pbs.twimg.com/media/FjkFSH_XEAM5BRy?format=jpg&name=medium\" width=500 title=\"Drawing by Gary Grady @GaryJGrady\">"
   ]
  },
  {
   "cell_type": "markdown",
   "metadata": {},
   "source": [
    "# [Day 10](https://adventofcode.com/2022/day/10): Cathode-Ray Tube \n",
    "\n",
    "Another puzzle involving running an interpreter on a program. The program is a sequence of lines, each containing one or two atoms:"
   ]
  },
  {
   "cell_type": "code",
   "execution_count": null,
   "metadata": {},
   "outputs": [],
   "source": [
    "in10 = parse(10, atoms)"
   ]
  },
  {
   "cell_type": "markdown",
   "metadata": {},
   "source": [
    "We're never sure what we will need in Part 2, so I'll make the program interpreter output the cycle number and value of X for every cycle. For Part 1, we sum the product of these two for cycles in {20, 60, 100, ... 220}:"
   ]
  },
  {
   "cell_type": "code",
   "execution_count": null,
   "metadata": {},
   "outputs": [],
   "source": [
    "def run(program) -> Iterable[Tuple[int, int]]:\n",
    "    \"\"\"Execute the program, oputputing (cycle_number, X_register_value) on each cycle.\n",
    "    Remember that an `addx` instruction takes 2 cycles.\"\"\"\n",
    "    X = 1\n",
    "    cycle = 0\n",
    "    results = []\n",
    "    for (op, *args) in program:\n",
    "        cycle += 1\n",
    "        results.append((cycle, X))\n",
    "        if op == 'addx':\n",
    "            cycle += 1\n",
    "            results.append((cycle, X))\n",
    "            X += args[0]\n",
    "    return results\n",
    "\n",
    "answer(10.1, 12560, lambda: sum(c * X for c, X in run(in10) if c in range(20, 221, 40)))"
   ]
  },
  {
   "cell_type": "markdown",
   "metadata": {},
   "source": [
    "For Part 2 I'm glad I kept all the `(cycle, X)` pairs. I just need to map `cycle` to `(x, y)` positions on the screen, and plot the result. Then I'll use my eyeballs (not an OCR program) to determine what letters are indicated."
   ]
  },
  {
   "cell_type": "code",
   "execution_count": null,
   "metadata": {},
   "outputs": [],
   "source": [
    "def render(program):\n",
    "    \"\"\"As the cycle number scans a 40-pixel wide CRT, turn on pixels\n",
    "    where register X and the scan position differ by 1 or less.x\"\"\"\n",
    "    points = []\n",
    "    for (c, X) in run(program):\n",
    "        x, y = (c - 1) % 40, (c - 1) // 40\n",
    "        if abs(X - x) <= 1:\n",
    "            points.append((x, y))\n",
    "    square_plot(points)\n",
    "    \n",
    "answer(10.2, \"PLPAFBCL\", lambda: render(in10) or \"PLPAFBCL\")"
   ]
  },
  {
   "cell_type": "markdown",
   "metadata": {},
   "source": [
    "# Summary\n",
    "\n",
    "The results so far, with run times:"
   ]
  },
  {
   "cell_type": "code",
   "execution_count": null,
   "metadata": {},
   "outputs": [],
   "source": [
    "answers"
   ]
  },
  {
   "cell_type": "code",
   "execution_count": null,
   "metadata": {},
   "outputs": [],
   "source": []
  }
 ],
 "metadata": {
  "kernelspec": {
   "display_name": "Python 3",
   "language": "python",
   "name": "python3"
  },
  "language_info": {
   "codemirror_mode": {
    "name": "ipython",
    "version": 3
   },
   "file_extension": ".py",
   "mimetype": "text/x-python",
   "name": "python",
   "nbconvert_exporter": "python",
   "pygments_lexer": "ipython3",
   "version": "3.7.6"
  }
 },
 "nbformat": 4,
 "nbformat_minor": 4
}
